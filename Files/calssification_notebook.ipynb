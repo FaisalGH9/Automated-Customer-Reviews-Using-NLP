{
 "cells": [
  {
   "cell_type": "markdown",
   "id": "f99b823f",
   "metadata": {
    "id": "8hMvOI4zMqj-"
   },
   "source": [
    "# 🧠 Step 1: Initial Dataset Overview"
   ]
  },
  {
   "cell_type": "code",
   "execution_count": 7,
   "id": "2fb1ad92",
   "metadata": {
    "id": "QGq6x1i4LjTl"
   },
   "outputs": [],
   "source": [
    "import pandas as pd\n"
   ]
  },
  {
   "cell_type": "markdown",
   "id": "76a8c7b2",
   "metadata": {
    "id": "7thbyTBZMw-J"
   },
   "source": [
    "## Load the dataset\n",
    "\n"
   ]
  },
  {
   "cell_type": "code",
   "execution_count": 8,
   "id": "4828b103",
   "metadata": {
    "colab": {
     "base_uri": "https://localhost:8080/"
    },
    "id": "wQXW5mJuMxHP",
    "outputId": "4902b156-1ce7-4b19-be3b-eb3e0b9d3a23"
   },
   "outputs": [
    {
     "name": "stderr",
     "output_type": "stream",
     "text": [
      "<ipython-input-8-4a2183bda7b0>:2: DtypeWarning: Columns (1,10) have mixed types. Specify dtype option on import or set low_memory=False.\n",
      "  df = pd.read_csv(file_path)\n"
     ]
    }
   ],
   "source": [
    "file_path = \"/content/1429_1.csv\"\n",
    "df = pd.read_csv(file_path)"
   ]
  },
  {
   "cell_type": "markdown",
   "id": "4db21fad",
   "metadata": {
    "id": "EYbRi9y2MxOl"
   },
   "source": [
    "## Show dataset shape\n"
   ]
  },
  {
   "cell_type": "code",
   "execution_count": 9,
   "id": "cc4d188c",
   "metadata": {
    "colab": {
     "base_uri": "https://localhost:8080/"
    },
    "id": "KbMK9SMkMxVZ",
    "outputId": "3101c0dd-75bc-4ee5-bffa-6c3d7c0f0fb5"
   },
   "outputs": [
    {
     "name": "stdout",
     "output_type": "stream",
     "text": [
      "Dataset Shape: (34660, 21)\n"
     ]
    }
   ],
   "source": [
    "print(f\"Dataset Shape: {df.shape}\")\n"
   ]
  },
  {
   "cell_type": "markdown",
   "id": "58271dee",
   "metadata": {
    "id": "5xtOFjrlMxa7"
   },
   "source": [
    "## Display first 5 rows\n"
   ]
  },
  {
   "cell_type": "code",
   "execution_count": 10,
   "id": "d625e47e",
   "metadata": {
    "colab": {
     "base_uri": "https://localhost:8080/",
     "height": 776
    },
    "id": "kFB01mwPMxge",
    "outputId": "c6ae1b0a-0e04-4382-b33e-703b7c5c96d6"
   },
   "outputs": [
    {
     "data": {
      "application/vnd.google.colaboratory.intrinsic+json": {
       "type": "dataframe"
      },
      "text/html": [
       "\n",
       "  <div id=\"df-730f0cec-d04e-4b94-a54c-75dfc1be2785\" class=\"colab-df-container\">\n",
       "    <div>\n",
       "<style scoped>\n",
       "    .dataframe tbody tr th:only-of-type {\n",
       "        vertical-align: middle;\n",
       "    }\n",
       "\n",
       "    .dataframe tbody tr th {\n",
       "        vertical-align: top;\n",
       "    }\n",
       "\n",
       "    .dataframe thead th {\n",
       "        text-align: right;\n",
       "    }\n",
       "</style>\n",
       "<table border=\"1\" class=\"dataframe\">\n",
       "  <thead>\n",
       "    <tr style=\"text-align: right;\">\n",
       "      <th></th>\n",
       "      <th>id</th>\n",
       "      <th>name</th>\n",
       "      <th>asins</th>\n",
       "      <th>brand</th>\n",
       "      <th>categories</th>\n",
       "      <th>keys</th>\n",
       "      <th>manufacturer</th>\n",
       "      <th>reviews.date</th>\n",
       "      <th>reviews.dateAdded</th>\n",
       "      <th>reviews.dateSeen</th>\n",
       "      <th>...</th>\n",
       "      <th>reviews.doRecommend</th>\n",
       "      <th>reviews.id</th>\n",
       "      <th>reviews.numHelpful</th>\n",
       "      <th>reviews.rating</th>\n",
       "      <th>reviews.sourceURLs</th>\n",
       "      <th>reviews.text</th>\n",
       "      <th>reviews.title</th>\n",
       "      <th>reviews.userCity</th>\n",
       "      <th>reviews.userProvince</th>\n",
       "      <th>reviews.username</th>\n",
       "    </tr>\n",
       "  </thead>\n",
       "  <tbody>\n",
       "    <tr>\n",
       "      <th>0</th>\n",
       "      <td>AVqkIhwDv8e3D1O-lebb</td>\n",
       "      <td>All-New Fire HD 8 Tablet, 8 HD Display, Wi-Fi,...</td>\n",
       "      <td>B01AHB9CN2</td>\n",
       "      <td>Amazon</td>\n",
       "      <td>Electronics,iPad &amp; Tablets,All Tablets,Fire Ta...</td>\n",
       "      <td>841667104676,amazon/53004484,amazon/b01ahb9cn2...</td>\n",
       "      <td>Amazon</td>\n",
       "      <td>2017-01-13T00:00:00.000Z</td>\n",
       "      <td>2017-07-03T23:33:15Z</td>\n",
       "      <td>2017-06-07T09:04:00.000Z,2017-04-30T00:45:00.000Z</td>\n",
       "      <td>...</td>\n",
       "      <td>True</td>\n",
       "      <td>NaN</td>\n",
       "      <td>0.0</td>\n",
       "      <td>5.0</td>\n",
       "      <td>http://reviews.bestbuy.com/3545/5620406/review...</td>\n",
       "      <td>This product so far has not disappointed. My c...</td>\n",
       "      <td>Kindle</td>\n",
       "      <td>NaN</td>\n",
       "      <td>NaN</td>\n",
       "      <td>Adapter</td>\n",
       "    </tr>\n",
       "    <tr>\n",
       "      <th>1</th>\n",
       "      <td>AVqkIhwDv8e3D1O-lebb</td>\n",
       "      <td>All-New Fire HD 8 Tablet, 8 HD Display, Wi-Fi,...</td>\n",
       "      <td>B01AHB9CN2</td>\n",
       "      <td>Amazon</td>\n",
       "      <td>Electronics,iPad &amp; Tablets,All Tablets,Fire Ta...</td>\n",
       "      <td>841667104676,amazon/53004484,amazon/b01ahb9cn2...</td>\n",
       "      <td>Amazon</td>\n",
       "      <td>2017-01-13T00:00:00.000Z</td>\n",
       "      <td>2017-07-03T23:33:15Z</td>\n",
       "      <td>2017-06-07T09:04:00.000Z,2017-04-30T00:45:00.000Z</td>\n",
       "      <td>...</td>\n",
       "      <td>True</td>\n",
       "      <td>NaN</td>\n",
       "      <td>0.0</td>\n",
       "      <td>5.0</td>\n",
       "      <td>http://reviews.bestbuy.com/3545/5620406/review...</td>\n",
       "      <td>great for beginner or experienced person. Boug...</td>\n",
       "      <td>very fast</td>\n",
       "      <td>NaN</td>\n",
       "      <td>NaN</td>\n",
       "      <td>truman</td>\n",
       "    </tr>\n",
       "    <tr>\n",
       "      <th>2</th>\n",
       "      <td>AVqkIhwDv8e3D1O-lebb</td>\n",
       "      <td>All-New Fire HD 8 Tablet, 8 HD Display, Wi-Fi,...</td>\n",
       "      <td>B01AHB9CN2</td>\n",
       "      <td>Amazon</td>\n",
       "      <td>Electronics,iPad &amp; Tablets,All Tablets,Fire Ta...</td>\n",
       "      <td>841667104676,amazon/53004484,amazon/b01ahb9cn2...</td>\n",
       "      <td>Amazon</td>\n",
       "      <td>2017-01-13T00:00:00.000Z</td>\n",
       "      <td>2017-07-03T23:33:15Z</td>\n",
       "      <td>2017-06-07T09:04:00.000Z,2017-04-30T00:45:00.000Z</td>\n",
       "      <td>...</td>\n",
       "      <td>True</td>\n",
       "      <td>NaN</td>\n",
       "      <td>0.0</td>\n",
       "      <td>5.0</td>\n",
       "      <td>http://reviews.bestbuy.com/3545/5620406/review...</td>\n",
       "      <td>Inexpensive tablet for him to use and learn on...</td>\n",
       "      <td>Beginner tablet for our 9 year old son.</td>\n",
       "      <td>NaN</td>\n",
       "      <td>NaN</td>\n",
       "      <td>DaveZ</td>\n",
       "    </tr>\n",
       "    <tr>\n",
       "      <th>3</th>\n",
       "      <td>AVqkIhwDv8e3D1O-lebb</td>\n",
       "      <td>All-New Fire HD 8 Tablet, 8 HD Display, Wi-Fi,...</td>\n",
       "      <td>B01AHB9CN2</td>\n",
       "      <td>Amazon</td>\n",
       "      <td>Electronics,iPad &amp; Tablets,All Tablets,Fire Ta...</td>\n",
       "      <td>841667104676,amazon/53004484,amazon/b01ahb9cn2...</td>\n",
       "      <td>Amazon</td>\n",
       "      <td>2017-01-13T00:00:00.000Z</td>\n",
       "      <td>2017-07-03T23:33:15Z</td>\n",
       "      <td>2017-06-07T09:04:00.000Z,2017-04-30T00:45:00.000Z</td>\n",
       "      <td>...</td>\n",
       "      <td>True</td>\n",
       "      <td>NaN</td>\n",
       "      <td>0.0</td>\n",
       "      <td>4.0</td>\n",
       "      <td>http://reviews.bestbuy.com/3545/5620406/review...</td>\n",
       "      <td>I've had my Fire HD 8 two weeks now and I love...</td>\n",
       "      <td>Good!!!</td>\n",
       "      <td>NaN</td>\n",
       "      <td>NaN</td>\n",
       "      <td>Shacks</td>\n",
       "    </tr>\n",
       "    <tr>\n",
       "      <th>4</th>\n",
       "      <td>AVqkIhwDv8e3D1O-lebb</td>\n",
       "      <td>All-New Fire HD 8 Tablet, 8 HD Display, Wi-Fi,...</td>\n",
       "      <td>B01AHB9CN2</td>\n",
       "      <td>Amazon</td>\n",
       "      <td>Electronics,iPad &amp; Tablets,All Tablets,Fire Ta...</td>\n",
       "      <td>841667104676,amazon/53004484,amazon/b01ahb9cn2...</td>\n",
       "      <td>Amazon</td>\n",
       "      <td>2017-01-12T00:00:00.000Z</td>\n",
       "      <td>2017-07-03T23:33:15Z</td>\n",
       "      <td>2017-06-07T09:04:00.000Z,2017-04-30T00:45:00.000Z</td>\n",
       "      <td>...</td>\n",
       "      <td>True</td>\n",
       "      <td>NaN</td>\n",
       "      <td>0.0</td>\n",
       "      <td>5.0</td>\n",
       "      <td>http://reviews.bestbuy.com/3545/5620406/review...</td>\n",
       "      <td>I bought this for my grand daughter when she c...</td>\n",
       "      <td>Fantastic Tablet for kids</td>\n",
       "      <td>NaN</td>\n",
       "      <td>NaN</td>\n",
       "      <td>explore42</td>\n",
       "    </tr>\n",
       "  </tbody>\n",
       "</table>\n",
       "<p>5 rows × 21 columns</p>\n",
       "</div>\n",
       "    <div class=\"colab-df-buttons\">\n",
       "\n",
       "  <div class=\"colab-df-container\">\n",
       "    <button class=\"colab-df-convert\" onclick=\"convertToInteractive('df-730f0cec-d04e-4b94-a54c-75dfc1be2785')\"\n",
       "            title=\"Convert this dataframe to an interactive table.\"\n",
       "            style=\"display:none;\">\n",
       "\n",
       "  <svg xmlns=\"http://www.w3.org/2000/svg\" height=\"24px\" viewBox=\"0 -960 960 960\">\n",
       "    <path d=\"M120-120v-720h720v720H120Zm60-500h600v-160H180v160Zm220 220h160v-160H400v160Zm0 220h160v-160H400v160ZM180-400h160v-160H180v160Zm440 0h160v-160H620v160ZM180-180h160v-160H180v160Zm440 0h160v-160H620v160Z\"/>\n",
       "  </svg>\n",
       "    </button>\n",
       "\n",
       "  <style>\n",
       "    .colab-df-container {\n",
       "      display:flex;\n",
       "      gap: 12px;\n",
       "    }\n",
       "\n",
       "    .colab-df-convert {\n",
       "      background-color: #E8F0FE;\n",
       "      border: none;\n",
       "      border-radius: 50%;\n",
       "      cursor: pointer;\n",
       "      display: none;\n",
       "      fill: #1967D2;\n",
       "      height: 32px;\n",
       "      padding: 0 0 0 0;\n",
       "      width: 32px;\n",
       "    }\n",
       "\n",
       "    .colab-df-convert:hover {\n",
       "      background-color: #E2EBFA;\n",
       "      box-shadow: 0px 1px 2px rgba(60, 64, 67, 0.3), 0px 1px 3px 1px rgba(60, 64, 67, 0.15);\n",
       "      fill: #174EA6;\n",
       "    }\n",
       "\n",
       "    .colab-df-buttons div {\n",
       "      margin-bottom: 4px;\n",
       "    }\n",
       "\n",
       "    [theme=dark] .colab-df-convert {\n",
       "      background-color: #3B4455;\n",
       "      fill: #D2E3FC;\n",
       "    }\n",
       "\n",
       "    [theme=dark] .colab-df-convert:hover {\n",
       "      background-color: #434B5C;\n",
       "      box-shadow: 0px 1px 3px 1px rgba(0, 0, 0, 0.15);\n",
       "      filter: drop-shadow(0px 1px 2px rgba(0, 0, 0, 0.3));\n",
       "      fill: #FFFFFF;\n",
       "    }\n",
       "  </style>\n",
       "\n",
       "    <script>\n",
       "      const buttonEl =\n",
       "        document.querySelector('#df-730f0cec-d04e-4b94-a54c-75dfc1be2785 button.colab-df-convert');\n",
       "      buttonEl.style.display =\n",
       "        google.colab.kernel.accessAllowed ? 'block' : 'none';\n",
       "\n",
       "      async function convertToInteractive(key) {\n",
       "        const element = document.querySelector('#df-730f0cec-d04e-4b94-a54c-75dfc1be2785');\n",
       "        const dataTable =\n",
       "          await google.colab.kernel.invokeFunction('convertToInteractive',\n",
       "                                                    [key], {});\n",
       "        if (!dataTable) return;\n",
       "\n",
       "        const docLinkHtml = 'Like what you see? Visit the ' +\n",
       "          '<a target=\"_blank\" href=https://colab.research.google.com/notebooks/data_table.ipynb>data table notebook</a>'\n",
       "          + ' to learn more about interactive tables.';\n",
       "        element.innerHTML = '';\n",
       "        dataTable['output_type'] = 'display_data';\n",
       "        await google.colab.output.renderOutput(dataTable, element);\n",
       "        const docLink = document.createElement('div');\n",
       "        docLink.innerHTML = docLinkHtml;\n",
       "        element.appendChild(docLink);\n",
       "      }\n",
       "    </script>\n",
       "  </div>\n",
       "\n",
       "\n",
       "<div id=\"df-3a656c01-ddef-40ff-bdab-96dd176320ac\">\n",
       "  <button class=\"colab-df-quickchart\" onclick=\"quickchart('df-3a656c01-ddef-40ff-bdab-96dd176320ac')\"\n",
       "            title=\"Suggest charts\"\n",
       "            style=\"display:none;\">\n",
       "\n",
       "<svg xmlns=\"http://www.w3.org/2000/svg\" height=\"24px\"viewBox=\"0 0 24 24\"\n",
       "     width=\"24px\">\n",
       "    <g>\n",
       "        <path d=\"M19 3H5c-1.1 0-2 .9-2 2v14c0 1.1.9 2 2 2h14c1.1 0 2-.9 2-2V5c0-1.1-.9-2-2-2zM9 17H7v-7h2v7zm4 0h-2V7h2v10zm4 0h-2v-4h2v4z\"/>\n",
       "    </g>\n",
       "</svg>\n",
       "  </button>\n",
       "\n",
       "<style>\n",
       "  .colab-df-quickchart {\n",
       "      --bg-color: #E8F0FE;\n",
       "      --fill-color: #1967D2;\n",
       "      --hover-bg-color: #E2EBFA;\n",
       "      --hover-fill-color: #174EA6;\n",
       "      --disabled-fill-color: #AAA;\n",
       "      --disabled-bg-color: #DDD;\n",
       "  }\n",
       "\n",
       "  [theme=dark] .colab-df-quickchart {\n",
       "      --bg-color: #3B4455;\n",
       "      --fill-color: #D2E3FC;\n",
       "      --hover-bg-color: #434B5C;\n",
       "      --hover-fill-color: #FFFFFF;\n",
       "      --disabled-bg-color: #3B4455;\n",
       "      --disabled-fill-color: #666;\n",
       "  }\n",
       "\n",
       "  .colab-df-quickchart {\n",
       "    background-color: var(--bg-color);\n",
       "    border: none;\n",
       "    border-radius: 50%;\n",
       "    cursor: pointer;\n",
       "    display: none;\n",
       "    fill: var(--fill-color);\n",
       "    height: 32px;\n",
       "    padding: 0;\n",
       "    width: 32px;\n",
       "  }\n",
       "\n",
       "  .colab-df-quickchart:hover {\n",
       "    background-color: var(--hover-bg-color);\n",
       "    box-shadow: 0 1px 2px rgba(60, 64, 67, 0.3), 0 1px 3px 1px rgba(60, 64, 67, 0.15);\n",
       "    fill: var(--button-hover-fill-color);\n",
       "  }\n",
       "\n",
       "  .colab-df-quickchart-complete:disabled,\n",
       "  .colab-df-quickchart-complete:disabled:hover {\n",
       "    background-color: var(--disabled-bg-color);\n",
       "    fill: var(--disabled-fill-color);\n",
       "    box-shadow: none;\n",
       "  }\n",
       "\n",
       "  .colab-df-spinner {\n",
       "    border: 2px solid var(--fill-color);\n",
       "    border-color: transparent;\n",
       "    border-bottom-color: var(--fill-color);\n",
       "    animation:\n",
       "      spin 1s steps(1) infinite;\n",
       "  }\n",
       "\n",
       "  @keyframes spin {\n",
       "    0% {\n",
       "      border-color: transparent;\n",
       "      border-bottom-color: var(--fill-color);\n",
       "      border-left-color: var(--fill-color);\n",
       "    }\n",
       "    20% {\n",
       "      border-color: transparent;\n",
       "      border-left-color: var(--fill-color);\n",
       "      border-top-color: var(--fill-color);\n",
       "    }\n",
       "    30% {\n",
       "      border-color: transparent;\n",
       "      border-left-color: var(--fill-color);\n",
       "      border-top-color: var(--fill-color);\n",
       "      border-right-color: var(--fill-color);\n",
       "    }\n",
       "    40% {\n",
       "      border-color: transparent;\n",
       "      border-right-color: var(--fill-color);\n",
       "      border-top-color: var(--fill-color);\n",
       "    }\n",
       "    60% {\n",
       "      border-color: transparent;\n",
       "      border-right-color: var(--fill-color);\n",
       "    }\n",
       "    80% {\n",
       "      border-color: transparent;\n",
       "      border-right-color: var(--fill-color);\n",
       "      border-bottom-color: var(--fill-color);\n",
       "    }\n",
       "    90% {\n",
       "      border-color: transparent;\n",
       "      border-bottom-color: var(--fill-color);\n",
       "    }\n",
       "  }\n",
       "</style>\n",
       "\n",
       "  <script>\n",
       "    async function quickchart(key) {\n",
       "      const quickchartButtonEl =\n",
       "        document.querySelector('#' + key + ' button');\n",
       "      quickchartButtonEl.disabled = true;  // To prevent multiple clicks.\n",
       "      quickchartButtonEl.classList.add('colab-df-spinner');\n",
       "      try {\n",
       "        const charts = await google.colab.kernel.invokeFunction(\n",
       "            'suggestCharts', [key], {});\n",
       "      } catch (error) {\n",
       "        console.error('Error during call to suggestCharts:', error);\n",
       "      }\n",
       "      quickchartButtonEl.classList.remove('colab-df-spinner');\n",
       "      quickchartButtonEl.classList.add('colab-df-quickchart-complete');\n",
       "    }\n",
       "    (() => {\n",
       "      let quickchartButtonEl =\n",
       "        document.querySelector('#df-3a656c01-ddef-40ff-bdab-96dd176320ac button');\n",
       "      quickchartButtonEl.style.display =\n",
       "        google.colab.kernel.accessAllowed ? 'block' : 'none';\n",
       "    })();\n",
       "  </script>\n",
       "</div>\n",
       "\n",
       "    </div>\n",
       "  </div>\n"
      ],
      "text/plain": [
       "                     id                                               name  \\\n",
       "0  AVqkIhwDv8e3D1O-lebb  All-New Fire HD 8 Tablet, 8 HD Display, Wi-Fi,...   \n",
       "1  AVqkIhwDv8e3D1O-lebb  All-New Fire HD 8 Tablet, 8 HD Display, Wi-Fi,...   \n",
       "2  AVqkIhwDv8e3D1O-lebb  All-New Fire HD 8 Tablet, 8 HD Display, Wi-Fi,...   \n",
       "3  AVqkIhwDv8e3D1O-lebb  All-New Fire HD 8 Tablet, 8 HD Display, Wi-Fi,...   \n",
       "4  AVqkIhwDv8e3D1O-lebb  All-New Fire HD 8 Tablet, 8 HD Display, Wi-Fi,...   \n",
       "\n",
       "        asins   brand                                         categories  \\\n",
       "0  B01AHB9CN2  Amazon  Electronics,iPad & Tablets,All Tablets,Fire Ta...   \n",
       "1  B01AHB9CN2  Amazon  Electronics,iPad & Tablets,All Tablets,Fire Ta...   \n",
       "2  B01AHB9CN2  Amazon  Electronics,iPad & Tablets,All Tablets,Fire Ta...   \n",
       "3  B01AHB9CN2  Amazon  Electronics,iPad & Tablets,All Tablets,Fire Ta...   \n",
       "4  B01AHB9CN2  Amazon  Electronics,iPad & Tablets,All Tablets,Fire Ta...   \n",
       "\n",
       "                                                keys manufacturer  \\\n",
       "0  841667104676,amazon/53004484,amazon/b01ahb9cn2...       Amazon   \n",
       "1  841667104676,amazon/53004484,amazon/b01ahb9cn2...       Amazon   \n",
       "2  841667104676,amazon/53004484,amazon/b01ahb9cn2...       Amazon   \n",
       "3  841667104676,amazon/53004484,amazon/b01ahb9cn2...       Amazon   \n",
       "4  841667104676,amazon/53004484,amazon/b01ahb9cn2...       Amazon   \n",
       "\n",
       "               reviews.date     reviews.dateAdded  \\\n",
       "0  2017-01-13T00:00:00.000Z  2017-07-03T23:33:15Z   \n",
       "1  2017-01-13T00:00:00.000Z  2017-07-03T23:33:15Z   \n",
       "2  2017-01-13T00:00:00.000Z  2017-07-03T23:33:15Z   \n",
       "3  2017-01-13T00:00:00.000Z  2017-07-03T23:33:15Z   \n",
       "4  2017-01-12T00:00:00.000Z  2017-07-03T23:33:15Z   \n",
       "\n",
       "                                    reviews.dateSeen  ... reviews.doRecommend  \\\n",
       "0  2017-06-07T09:04:00.000Z,2017-04-30T00:45:00.000Z  ...                True   \n",
       "1  2017-06-07T09:04:00.000Z,2017-04-30T00:45:00.000Z  ...                True   \n",
       "2  2017-06-07T09:04:00.000Z,2017-04-30T00:45:00.000Z  ...                True   \n",
       "3  2017-06-07T09:04:00.000Z,2017-04-30T00:45:00.000Z  ...                True   \n",
       "4  2017-06-07T09:04:00.000Z,2017-04-30T00:45:00.000Z  ...                True   \n",
       "\n",
       "  reviews.id  reviews.numHelpful  reviews.rating  \\\n",
       "0        NaN                 0.0             5.0   \n",
       "1        NaN                 0.0             5.0   \n",
       "2        NaN                 0.0             5.0   \n",
       "3        NaN                 0.0             4.0   \n",
       "4        NaN                 0.0             5.0   \n",
       "\n",
       "                                  reviews.sourceURLs  \\\n",
       "0  http://reviews.bestbuy.com/3545/5620406/review...   \n",
       "1  http://reviews.bestbuy.com/3545/5620406/review...   \n",
       "2  http://reviews.bestbuy.com/3545/5620406/review...   \n",
       "3  http://reviews.bestbuy.com/3545/5620406/review...   \n",
       "4  http://reviews.bestbuy.com/3545/5620406/review...   \n",
       "\n",
       "                                        reviews.text  \\\n",
       "0  This product so far has not disappointed. My c...   \n",
       "1  great for beginner or experienced person. Boug...   \n",
       "2  Inexpensive tablet for him to use and learn on...   \n",
       "3  I've had my Fire HD 8 two weeks now and I love...   \n",
       "4  I bought this for my grand daughter when she c...   \n",
       "\n",
       "                             reviews.title reviews.userCity  \\\n",
       "0                                   Kindle              NaN   \n",
       "1                                very fast              NaN   \n",
       "2  Beginner tablet for our 9 year old son.              NaN   \n",
       "3                                  Good!!!              NaN   \n",
       "4                Fantastic Tablet for kids              NaN   \n",
       "\n",
       "   reviews.userProvince  reviews.username  \n",
       "0                   NaN           Adapter  \n",
       "1                   NaN            truman  \n",
       "2                   NaN             DaveZ  \n",
       "3                   NaN            Shacks  \n",
       "4                   NaN         explore42  \n",
       "\n",
       "[5 rows x 21 columns]"
      ]
     },
     "metadata": {},
     "output_type": "display_data"
    }
   ],
   "source": [
    "display(df.head())\n"
   ]
  },
  {
   "cell_type": "markdown",
   "id": "04859080",
   "metadata": {
    "id": "FXXVcBj2Mxl3"
   },
   "source": [
    "## Show basic info\n"
   ]
  },
  {
   "cell_type": "code",
   "execution_count": 11,
   "id": "ee47760b",
   "metadata": {
    "colab": {
     "base_uri": "https://localhost:8080/"
    },
    "id": "TUsF3OXCMxrA",
    "outputId": "bf6d861d-6077-4b4e-c205-a0d5c301915b"
   },
   "outputs": [
    {
     "name": "stdout",
     "output_type": "stream",
     "text": [
      "<class 'pandas.core.frame.DataFrame'>\n",
      "RangeIndex: 34660 entries, 0 to 34659\n",
      "Data columns (total 21 columns):\n",
      " #   Column                Non-Null Count  Dtype  \n",
      "---  ------                --------------  -----  \n",
      " 0   id                    34660 non-null  object \n",
      " 1   name                  27900 non-null  object \n",
      " 2   asins                 34658 non-null  object \n",
      " 3   brand                 34660 non-null  object \n",
      " 4   categories            34660 non-null  object \n",
      " 5   keys                  34660 non-null  object \n",
      " 6   manufacturer          34660 non-null  object \n",
      " 7   reviews.date          34621 non-null  object \n",
      " 8   reviews.dateAdded     24039 non-null  object \n",
      " 9   reviews.dateSeen      34660 non-null  object \n",
      " 10  reviews.didPurchase   1 non-null      object \n",
      " 11  reviews.doRecommend   34066 non-null  object \n",
      " 12  reviews.id            1 non-null      float64\n",
      " 13  reviews.numHelpful    34131 non-null  float64\n",
      " 14  reviews.rating        34627 non-null  float64\n",
      " 15  reviews.sourceURLs    34660 non-null  object \n",
      " 16  reviews.text          34659 non-null  object \n",
      " 17  reviews.title         34654 non-null  object \n",
      " 18  reviews.userCity      0 non-null      float64\n",
      " 19  reviews.userProvince  0 non-null      float64\n",
      " 20  reviews.username      34653 non-null  object \n",
      "dtypes: float64(5), object(16)\n",
      "memory usage: 5.6+ MB\n"
     ]
    }
   ],
   "source": [
    "df.info()\n"
   ]
  },
  {
   "cell_type": "markdown",
   "id": "6917d97a",
   "metadata": {
    "id": "_QLNHas1MxwQ"
   },
   "source": [
    "## Show summary of numeric columns\n"
   ]
  },
  {
   "cell_type": "code",
   "execution_count": 12,
   "id": "b9089a59",
   "metadata": {
    "colab": {
     "base_uri": "https://localhost:8080/",
     "height": 300
    },
    "id": "EH_UXxD2Mx1e",
    "outputId": "3db2b47a-bcaa-4652-ede1-6a46aa4ded80"
   },
   "outputs": [
    {
     "data": {
      "application/vnd.google.colaboratory.intrinsic+json": {
       "summary": "{\n  \"name\": \"display(df\",\n  \"rows\": 8,\n  \"fields\": [\n    {\n      \"column\": \"reviews.id\",\n      \"properties\": {\n        \"dtype\": \"number\",\n        \"std\": 42094956.36805944,\n        \"min\": 1.0,\n        \"max\": 111372787.0,\n        \"num_unique_values\": 2,\n        \"samples\": [\n          111372787.0,\n          1.0\n        ],\n        \"semantic_type\": \"\",\n        \"description\": \"\"\n      }\n    },\n    {\n      \"column\": \"reviews.numHelpful\",\n      \"properties\": {\n        \"dtype\": \"number\",\n        \"std\": 12028.67299201925,\n        \"min\": 0.0,\n        \"max\": 34131.0,\n        \"num_unique_values\": 5,\n        \"samples\": [\n          0.6302481614954147,\n          814.0\n        ],\n        \"semantic_type\": \"\",\n        \"description\": \"\"\n      }\n    },\n    {\n      \"column\": \"reviews.rating\",\n      \"properties\": {\n        \"dtype\": \"number\",\n        \"std\": 12241.214519762769,\n        \"min\": 0.7356529076479593,\n        \"max\": 34627.0,\n        \"num_unique_values\": 6,\n        \"samples\": [\n          34627.0,\n          4.584572732260953\n        ],\n        \"semantic_type\": \"\",\n        \"description\": \"\"\n      }\n    },\n    {\n      \"column\": \"reviews.userCity\",\n      \"properties\": {\n        \"dtype\": \"number\",\n        \"std\": null,\n        \"min\": 0.0,\n        \"max\": 0.0,\n        \"num_unique_values\": 1,\n        \"samples\": [\n          0.0\n        ],\n        \"semantic_type\": \"\",\n        \"description\": \"\"\n      }\n    },\n    {\n      \"column\": \"reviews.userProvince\",\n      \"properties\": {\n        \"dtype\": \"number\",\n        \"std\": null,\n        \"min\": 0.0,\n        \"max\": 0.0,\n        \"num_unique_values\": 1,\n        \"samples\": [\n          0.0\n        ],\n        \"semantic_type\": \"\",\n        \"description\": \"\"\n      }\n    }\n  ]\n}",
       "type": "dataframe"
      },
      "text/html": [
       "\n",
       "  <div id=\"df-66053daa-35ba-457e-b739-996826e0bc2e\" class=\"colab-df-container\">\n",
       "    <div>\n",
       "<style scoped>\n",
       "    .dataframe tbody tr th:only-of-type {\n",
       "        vertical-align: middle;\n",
       "    }\n",
       "\n",
       "    .dataframe tbody tr th {\n",
       "        vertical-align: top;\n",
       "    }\n",
       "\n",
       "    .dataframe thead th {\n",
       "        text-align: right;\n",
       "    }\n",
       "</style>\n",
       "<table border=\"1\" class=\"dataframe\">\n",
       "  <thead>\n",
       "    <tr style=\"text-align: right;\">\n",
       "      <th></th>\n",
       "      <th>reviews.id</th>\n",
       "      <th>reviews.numHelpful</th>\n",
       "      <th>reviews.rating</th>\n",
       "      <th>reviews.userCity</th>\n",
       "      <th>reviews.userProvince</th>\n",
       "    </tr>\n",
       "  </thead>\n",
       "  <tbody>\n",
       "    <tr>\n",
       "      <th>count</th>\n",
       "      <td>1.0</td>\n",
       "      <td>34131.000000</td>\n",
       "      <td>34627.000000</td>\n",
       "      <td>0.0</td>\n",
       "      <td>0.0</td>\n",
       "    </tr>\n",
       "    <tr>\n",
       "      <th>mean</th>\n",
       "      <td>111372787.0</td>\n",
       "      <td>0.630248</td>\n",
       "      <td>4.584573</td>\n",
       "      <td>NaN</td>\n",
       "      <td>NaN</td>\n",
       "    </tr>\n",
       "    <tr>\n",
       "      <th>std</th>\n",
       "      <td>NaN</td>\n",
       "      <td>13.215775</td>\n",
       "      <td>0.735653</td>\n",
       "      <td>NaN</td>\n",
       "      <td>NaN</td>\n",
       "    </tr>\n",
       "    <tr>\n",
       "      <th>min</th>\n",
       "      <td>111372787.0</td>\n",
       "      <td>0.000000</td>\n",
       "      <td>1.000000</td>\n",
       "      <td>NaN</td>\n",
       "      <td>NaN</td>\n",
       "    </tr>\n",
       "    <tr>\n",
       "      <th>25%</th>\n",
       "      <td>111372787.0</td>\n",
       "      <td>0.000000</td>\n",
       "      <td>4.000000</td>\n",
       "      <td>NaN</td>\n",
       "      <td>NaN</td>\n",
       "    </tr>\n",
       "    <tr>\n",
       "      <th>50%</th>\n",
       "      <td>111372787.0</td>\n",
       "      <td>0.000000</td>\n",
       "      <td>5.000000</td>\n",
       "      <td>NaN</td>\n",
       "      <td>NaN</td>\n",
       "    </tr>\n",
       "    <tr>\n",
       "      <th>75%</th>\n",
       "      <td>111372787.0</td>\n",
       "      <td>0.000000</td>\n",
       "      <td>5.000000</td>\n",
       "      <td>NaN</td>\n",
       "      <td>NaN</td>\n",
       "    </tr>\n",
       "    <tr>\n",
       "      <th>max</th>\n",
       "      <td>111372787.0</td>\n",
       "      <td>814.000000</td>\n",
       "      <td>5.000000</td>\n",
       "      <td>NaN</td>\n",
       "      <td>NaN</td>\n",
       "    </tr>\n",
       "  </tbody>\n",
       "</table>\n",
       "</div>\n",
       "    <div class=\"colab-df-buttons\">\n",
       "\n",
       "  <div class=\"colab-df-container\">\n",
       "    <button class=\"colab-df-convert\" onclick=\"convertToInteractive('df-66053daa-35ba-457e-b739-996826e0bc2e')\"\n",
       "            title=\"Convert this dataframe to an interactive table.\"\n",
       "            style=\"display:none;\">\n",
       "\n",
       "  <svg xmlns=\"http://www.w3.org/2000/svg\" height=\"24px\" viewBox=\"0 -960 960 960\">\n",
       "    <path d=\"M120-120v-720h720v720H120Zm60-500h600v-160H180v160Zm220 220h160v-160H400v160Zm0 220h160v-160H400v160ZM180-400h160v-160H180v160Zm440 0h160v-160H620v160ZM180-180h160v-160H180v160Zm440 0h160v-160H620v160Z\"/>\n",
       "  </svg>\n",
       "    </button>\n",
       "\n",
       "  <style>\n",
       "    .colab-df-container {\n",
       "      display:flex;\n",
       "      gap: 12px;\n",
       "    }\n",
       "\n",
       "    .colab-df-convert {\n",
       "      background-color: #E8F0FE;\n",
       "      border: none;\n",
       "      border-radius: 50%;\n",
       "      cursor: pointer;\n",
       "      display: none;\n",
       "      fill: #1967D2;\n",
       "      height: 32px;\n",
       "      padding: 0 0 0 0;\n",
       "      width: 32px;\n",
       "    }\n",
       "\n",
       "    .colab-df-convert:hover {\n",
       "      background-color: #E2EBFA;\n",
       "      box-shadow: 0px 1px 2px rgba(60, 64, 67, 0.3), 0px 1px 3px 1px rgba(60, 64, 67, 0.15);\n",
       "      fill: #174EA6;\n",
       "    }\n",
       "\n",
       "    .colab-df-buttons div {\n",
       "      margin-bottom: 4px;\n",
       "    }\n",
       "\n",
       "    [theme=dark] .colab-df-convert {\n",
       "      background-color: #3B4455;\n",
       "      fill: #D2E3FC;\n",
       "    }\n",
       "\n",
       "    [theme=dark] .colab-df-convert:hover {\n",
       "      background-color: #434B5C;\n",
       "      box-shadow: 0px 1px 3px 1px rgba(0, 0, 0, 0.15);\n",
       "      filter: drop-shadow(0px 1px 2px rgba(0, 0, 0, 0.3));\n",
       "      fill: #FFFFFF;\n",
       "    }\n",
       "  </style>\n",
       "\n",
       "    <script>\n",
       "      const buttonEl =\n",
       "        document.querySelector('#df-66053daa-35ba-457e-b739-996826e0bc2e button.colab-df-convert');\n",
       "      buttonEl.style.display =\n",
       "        google.colab.kernel.accessAllowed ? 'block' : 'none';\n",
       "\n",
       "      async function convertToInteractive(key) {\n",
       "        const element = document.querySelector('#df-66053daa-35ba-457e-b739-996826e0bc2e');\n",
       "        const dataTable =\n",
       "          await google.colab.kernel.invokeFunction('convertToInteractive',\n",
       "                                                    [key], {});\n",
       "        if (!dataTable) return;\n",
       "\n",
       "        const docLinkHtml = 'Like what you see? Visit the ' +\n",
       "          '<a target=\"_blank\" href=https://colab.research.google.com/notebooks/data_table.ipynb>data table notebook</a>'\n",
       "          + ' to learn more about interactive tables.';\n",
       "        element.innerHTML = '';\n",
       "        dataTable['output_type'] = 'display_data';\n",
       "        await google.colab.output.renderOutput(dataTable, element);\n",
       "        const docLink = document.createElement('div');\n",
       "        docLink.innerHTML = docLinkHtml;\n",
       "        element.appendChild(docLink);\n",
       "      }\n",
       "    </script>\n",
       "  </div>\n",
       "\n",
       "\n",
       "<div id=\"df-27d2443c-ba20-4b34-8aba-a0b44556f432\">\n",
       "  <button class=\"colab-df-quickchart\" onclick=\"quickchart('df-27d2443c-ba20-4b34-8aba-a0b44556f432')\"\n",
       "            title=\"Suggest charts\"\n",
       "            style=\"display:none;\">\n",
       "\n",
       "<svg xmlns=\"http://www.w3.org/2000/svg\" height=\"24px\"viewBox=\"0 0 24 24\"\n",
       "     width=\"24px\">\n",
       "    <g>\n",
       "        <path d=\"M19 3H5c-1.1 0-2 .9-2 2v14c0 1.1.9 2 2 2h14c1.1 0 2-.9 2-2V5c0-1.1-.9-2-2-2zM9 17H7v-7h2v7zm4 0h-2V7h2v10zm4 0h-2v-4h2v4z\"/>\n",
       "    </g>\n",
       "</svg>\n",
       "  </button>\n",
       "\n",
       "<style>\n",
       "  .colab-df-quickchart {\n",
       "      --bg-color: #E8F0FE;\n",
       "      --fill-color: #1967D2;\n",
       "      --hover-bg-color: #E2EBFA;\n",
       "      --hover-fill-color: #174EA6;\n",
       "      --disabled-fill-color: #AAA;\n",
       "      --disabled-bg-color: #DDD;\n",
       "  }\n",
       "\n",
       "  [theme=dark] .colab-df-quickchart {\n",
       "      --bg-color: #3B4455;\n",
       "      --fill-color: #D2E3FC;\n",
       "      --hover-bg-color: #434B5C;\n",
       "      --hover-fill-color: #FFFFFF;\n",
       "      --disabled-bg-color: #3B4455;\n",
       "      --disabled-fill-color: #666;\n",
       "  }\n",
       "\n",
       "  .colab-df-quickchart {\n",
       "    background-color: var(--bg-color);\n",
       "    border: none;\n",
       "    border-radius: 50%;\n",
       "    cursor: pointer;\n",
       "    display: none;\n",
       "    fill: var(--fill-color);\n",
       "    height: 32px;\n",
       "    padding: 0;\n",
       "    width: 32px;\n",
       "  }\n",
       "\n",
       "  .colab-df-quickchart:hover {\n",
       "    background-color: var(--hover-bg-color);\n",
       "    box-shadow: 0 1px 2px rgba(60, 64, 67, 0.3), 0 1px 3px 1px rgba(60, 64, 67, 0.15);\n",
       "    fill: var(--button-hover-fill-color);\n",
       "  }\n",
       "\n",
       "  .colab-df-quickchart-complete:disabled,\n",
       "  .colab-df-quickchart-complete:disabled:hover {\n",
       "    background-color: var(--disabled-bg-color);\n",
       "    fill: var(--disabled-fill-color);\n",
       "    box-shadow: none;\n",
       "  }\n",
       "\n",
       "  .colab-df-spinner {\n",
       "    border: 2px solid var(--fill-color);\n",
       "    border-color: transparent;\n",
       "    border-bottom-color: var(--fill-color);\n",
       "    animation:\n",
       "      spin 1s steps(1) infinite;\n",
       "  }\n",
       "\n",
       "  @keyframes spin {\n",
       "    0% {\n",
       "      border-color: transparent;\n",
       "      border-bottom-color: var(--fill-color);\n",
       "      border-left-color: var(--fill-color);\n",
       "    }\n",
       "    20% {\n",
       "      border-color: transparent;\n",
       "      border-left-color: var(--fill-color);\n",
       "      border-top-color: var(--fill-color);\n",
       "    }\n",
       "    30% {\n",
       "      border-color: transparent;\n",
       "      border-left-color: var(--fill-color);\n",
       "      border-top-color: var(--fill-color);\n",
       "      border-right-color: var(--fill-color);\n",
       "    }\n",
       "    40% {\n",
       "      border-color: transparent;\n",
       "      border-right-color: var(--fill-color);\n",
       "      border-top-color: var(--fill-color);\n",
       "    }\n",
       "    60% {\n",
       "      border-color: transparent;\n",
       "      border-right-color: var(--fill-color);\n",
       "    }\n",
       "    80% {\n",
       "      border-color: transparent;\n",
       "      border-right-color: var(--fill-color);\n",
       "      border-bottom-color: var(--fill-color);\n",
       "    }\n",
       "    90% {\n",
       "      border-color: transparent;\n",
       "      border-bottom-color: var(--fill-color);\n",
       "    }\n",
       "  }\n",
       "</style>\n",
       "\n",
       "  <script>\n",
       "    async function quickchart(key) {\n",
       "      const quickchartButtonEl =\n",
       "        document.querySelector('#' + key + ' button');\n",
       "      quickchartButtonEl.disabled = true;  // To prevent multiple clicks.\n",
       "      quickchartButtonEl.classList.add('colab-df-spinner');\n",
       "      try {\n",
       "        const charts = await google.colab.kernel.invokeFunction(\n",
       "            'suggestCharts', [key], {});\n",
       "      } catch (error) {\n",
       "        console.error('Error during call to suggestCharts:', error);\n",
       "      }\n",
       "      quickchartButtonEl.classList.remove('colab-df-spinner');\n",
       "      quickchartButtonEl.classList.add('colab-df-quickchart-complete');\n",
       "    }\n",
       "    (() => {\n",
       "      let quickchartButtonEl =\n",
       "        document.querySelector('#df-27d2443c-ba20-4b34-8aba-a0b44556f432 button');\n",
       "      quickchartButtonEl.style.display =\n",
       "        google.colab.kernel.accessAllowed ? 'block' : 'none';\n",
       "    })();\n",
       "  </script>\n",
       "</div>\n",
       "\n",
       "    </div>\n",
       "  </div>\n"
      ],
      "text/plain": [
       "        reviews.id  reviews.numHelpful  reviews.rating  reviews.userCity  \\\n",
       "count          1.0        34131.000000    34627.000000               0.0   \n",
       "mean   111372787.0            0.630248        4.584573               NaN   \n",
       "std            NaN           13.215775        0.735653               NaN   \n",
       "min    111372787.0            0.000000        1.000000               NaN   \n",
       "25%    111372787.0            0.000000        4.000000               NaN   \n",
       "50%    111372787.0            0.000000        5.000000               NaN   \n",
       "75%    111372787.0            0.000000        5.000000               NaN   \n",
       "max    111372787.0          814.000000        5.000000               NaN   \n",
       "\n",
       "       reviews.userProvince  \n",
       "count                   0.0  \n",
       "mean                    NaN  \n",
       "std                     NaN  \n",
       "min                     NaN  \n",
       "25%                     NaN  \n",
       "50%                     NaN  \n",
       "75%                     NaN  \n",
       "max                     NaN  "
      ]
     },
     "metadata": {},
     "output_type": "display_data"
    }
   ],
   "source": [
    "display(df.describe())"
   ]
  },
  {
   "cell_type": "markdown",
   "id": "94facee5",
   "metadata": {
    "id": "HPdfsczjMx6f"
   },
   "source": [
    "# 📊 Step 2: Visualizing Ratings, Missing Values, and Review Lengths"
   ]
  },
  {
   "cell_type": "code",
   "execution_count": 13,
   "id": "1b7d6bf7",
   "metadata": {
    "id": "LOAEhI1LMx_e"
   },
   "outputs": [],
   "source": [
    "import matplotlib.pyplot as plt\n",
    "import seaborn as sns"
   ]
  },
  {
   "cell_type": "markdown",
   "id": "61438774",
   "metadata": {
    "id": "iDMviIIlMyEZ"
   },
   "source": [
    "## 1. Plot distribution of review ratings\n"
   ]
  },
  {
   "cell_type": "code",
   "execution_count": 14,
   "id": "6446541b",
   "metadata": {
    "colab": {
     "base_uri": "https://localhost:8080/",
     "height": 594
    },
    "id": "lw9NZA16MyJs",
    "outputId": "7221df9a-c26e-44de-b0f3-37aab3bf02e6"
   },
   "outputs": [
    {
     "name": "stderr",
     "output_type": "stream",
     "text": [
      "<ipython-input-14-9574275537a1>:2: FutureWarning: \n",
      "\n",
      "Passing `palette` without assigning `hue` is deprecated and will be removed in v0.14.0. Assign the `x` variable to `hue` and set `legend=False` for the same effect.\n",
      "\n",
      "  sns.countplot(x=df['reviews.rating'], palette='viridis')\n"
     ]
    },
    {
     "data": {
      "image/png": "[encoded data removed]",
      "text/plain": [
       "<Figure size 800x500 with 1 Axes>"
      ]
     },
     "metadata": {},
     "output_type": "display_data"
    }
   ],
   "source": [
    "plt.figure(figsize=(8, 5))\n",
    "sns.countplot(x=df['reviews.rating'], palette='viridis')\n",
    "plt.title('Distribution of Review Ratings')\n",
    "plt.xlabel('Rating')\n",
    "plt.ylabel('Count')\n",
    "plt.show()"
   ]
  },
  {
   "cell_type": "markdown",
   "id": "8481e304",
   "metadata": {
    "id": "BFQRF4RGMyOY"
   },
   "source": [
    "## 2. Heatmap of missing values\n"
   ]
  },
  {
   "cell_type": "code",
   "execution_count": 15,
   "id": "883dac17",
   "metadata": {
    "colab": {
     "base_uri": "https://localhost:8080/",
     "height": 629
    },
    "id": "Ac_7VL0GMySt",
    "outputId": "047766fb-d315-436f-d6c8-3a9f7a9db80e"
   },
   "outputs": [
    {
     "data": {
      "image/png": "[encoded data removed]",
      "text/plain": [
       "<Figure size 1200x600 with 1 Axes>"
      ]
     },
     "metadata": {},
     "output_type": "display_data"
    }
   ],
   "source": [
    "plt.figure(figsize=(12, 6))\n",
    "sns.heatmap(df.isnull(), cbar=False, cmap='viridis')\n",
    "plt.title('Missing Values Heatmap')\n",
    "plt.show()"
   ]
  },
  {
   "cell_type": "markdown",
   "id": "83dfa030",
   "metadata": {
    "id": "z6pBxCIFMyXN"
   },
   "source": [
    "## 3. Add column: length of review text\n"
   ]
  },
  {
   "cell_type": "code",
   "execution_count": 16,
   "id": "05fa8386",
   "metadata": {
    "id": "KxzENtg5MycD"
   },
   "outputs": [],
   "source": [
    "df['review_length'] = df['reviews.text'].astype(str).apply(len)\n"
   ]
  },
  {
   "cell_type": "markdown",
   "id": "efe608a2",
   "metadata": {
    "id": "mNgA-PC5Myg-"
   },
   "source": [
    "## Plot review text lengths\n"
   ]
  },
  {
   "cell_type": "code",
   "execution_count": 17,
   "id": "8e4609bd",
   "metadata": {
    "colab": {
     "base_uri": "https://localhost:8080/",
     "height": 487
    },
    "id": "E1pyzteaMyl5",
    "outputId": "7ab561c6-7186-498b-9b17-b11178a02877"
   },
   "outputs": [
    {
     "data": {
      "image/png": "[encoded data removed]",
      "text/plain": [
       "<Figure size 800x500 with 1 Axes>"
      ]
     },
     "metadata": {},
     "output_type": "display_data"
    }
   ],
   "source": [
    "plt.figure(figsize=(8, 5))\n",
    "sns.histplot(df['review_length'], bins=50, kde=True)\n",
    "plt.title('Distribution of Review Text Lengths')\n",
    "plt.xlabel('Number of Characters')\n",
    "plt.ylabel('Count')\n",
    "plt.show()"
   ]
  },
  {
   "cell_type": "markdown",
   "id": "f29aa110",
   "metadata": {
    "id": "P0VVTkoWMyqv"
   },
   "source": [
    "## Print reviews with empty text\n"
   ]
  },
  {
   "cell_type": "code",
   "execution_count": 18,
   "id": "3604d99f",
   "metadata": {
    "colab": {
     "base_uri": "https://localhost:8080/"
    },
    "id": "NTRFzX4iMyvV",
    "outputId": "cbf15281-b984-4a48-f6ce-99fb632d5f6b"
   },
   "outputs": [
    {
     "name": "stdout",
     "output_type": "stream",
     "text": [
      "⚠️ Found 13 reviews with very short text (<= 5 characters).\n"
     ]
    }
   ],
   "source": [
    "empty_reviews = df[df['review_length'] <= 5]\n",
    "print(f\"⚠️ Found {len(empty_reviews)} reviews with very short text (<= 5 characters).\")"
   ]
  },
  {
   "cell_type": "markdown",
   "id": "abb5f90b",
   "metadata": {
    "id": "Tc447klHMy0a"
   },
   "source": [
    "# 🧹 Step 3: Cleaning & Fixing the Data"
   ]
  },
  {
   "cell_type": "markdown",
   "id": "6fff6c33",
   "metadata": {
    "id": "9GfOlzUmPmwm"
   },
   "source": [
    "## 1. Drop completely empty or useless columns\n"
   ]
  },
  {
   "cell_type": "code",
   "execution_count": 19,
   "id": "c229c4a9",
   "metadata": {
    "id": "4nSEwLIqMy5P"
   },
   "outputs": [],
   "source": [
    "cols_to_drop = ['reviews.userCity', 'reviews.userProvince', 'reviews.id', 'reviews.didPurchase']\n",
    "df.drop(columns=cols_to_drop, inplace=True, errors='ignore')\n"
   ]
  },
  {
   "cell_type": "markdown",
   "id": "74e7caec",
   "metadata": {
    "id": "4NIJ9Li6My-L"
   },
   "source": [
    "##  2. Drop rows with missing reviews or ratings\n"
   ]
  },
  {
   "cell_type": "markdown",
   "id": "60033d1d",
   "metadata": {
    "id": "9ITChPgnQanR"
   },
   "source": []
  },
  {
   "cell_type": "code",
   "execution_count": 20,
   "id": "825c7201",
   "metadata": {
    "id": "4wXRDEJEMzC9"
   },
   "outputs": [],
   "source": [
    "df.dropna(subset=['reviews.text', 'reviews.rating'], inplace=True)"
   ]
  },
  {
   "cell_type": "markdown",
   "id": "7803a97c",
   "metadata": {
    "id": "QERp91bvMzHs"
   },
   "source": [
    "##  3. Remove duplicate rows (based on review text & username)\n"
   ]
  },
  {
   "cell_type": "code",
   "execution_count": 21,
   "id": "937aad1c",
   "metadata": {
    "id": "o01qfBvnMzMs"
   },
   "outputs": [],
   "source": [
    "df.drop_duplicates(subset=['reviews.text', 'reviews.username'], inplace=True)"
   ]
  },
  {
   "cell_type": "markdown",
   "id": "9145244e",
   "metadata": {
    "id": "RNn0lMyeMzRe"
   },
   "source": [
    "## 4. Remove reviews that are too short to be useful (optional threshold = 10 characters)\n"
   ]
  },
  {
   "cell_type": "code",
   "execution_count": 22,
   "id": "7c34e233",
   "metadata": {
    "id": "ncJzbvfqMzWO"
   },
   "outputs": [],
   "source": [
    "df = df[df['review_length'] > 10]"
   ]
  },
  {
   "cell_type": "markdown",
   "id": "8c90b584",
   "metadata": {
    "id": "LbdeasYMMza5"
   },
   "source": [
    "## Reset index after cleaning\n"
   ]
  },
  {
   "cell_type": "code",
   "execution_count": 23,
   "id": "cb47953e",
   "metadata": {
    "id": "28ChmBgfMzf-"
   },
   "outputs": [],
   "source": [
    "df.reset_index(drop=True, inplace=True)"
   ]
  },
  {
   "cell_type": "markdown",
   "id": "c3fc32aa",
   "metadata": {
    "id": "utTXCFHQMzlO"
   },
   "source": [
    "## Print result\n"
   ]
  },
  {
   "cell_type": "code",
   "execution_count": 24,
   "id": "aeeaed4b",
   "metadata": {
    "colab": {
     "base_uri": "https://localhost:8080/"
    },
    "id": "tYhD8H2WMzqU",
    "outputId": "a3148f19-04a2-406d-83b3-2b875c1d4241"
   },
   "outputs": [
    {
     "name": "stdout",
     "output_type": "stream",
     "text": [
      "✅ Cleaned dataset shape: (34584, 18)\n"
     ]
    }
   ],
   "source": [
    "print(f\"✅ Cleaned dataset shape: {df.shape}\")"
   ]
  },
  {
   "cell_type": "markdown",
   "id": "69ada4a4",
   "metadata": {
    "id": "HSkaJp8cMzvY"
   },
   "source": [
    "##Function to map ratings to sentiment"
   ]
  },
  {
   "cell_type": "code",
   "execution_count": 25,
   "id": "269905e2",
   "metadata": {
    "id": "vqWVDsSNMz0m"
   },
   "outputs": [],
   "source": [
    "def map_sentiment(rating):\n",
    "    if rating <= 2:\n",
    "        return 'negative'\n",
    "    elif rating == 3:\n",
    "        return 'neutral'\n",
    "    elif rating == 4 or rating == 5:\n",
    "        return 'positive'"
   ]
  },
  {
   "cell_type": "markdown",
   "id": "27503596",
   "metadata": {
    "id": "8t23NYnUMz5b"
   },
   "source": [
    "## Apply the function to create a new column\n"
   ]
  },
  {
   "cell_type": "code",
   "execution_count": 26,
   "id": "c4d09a29",
   "metadata": {
    "colab": {
     "base_uri": "https://localhost:8080/"
    },
    "id": "3rjnCPYzMz-6",
    "outputId": "0fd650d8-1dba-4f40-8f28-10cc8818b402"
   },
   "outputs": [
    {
     "name": "stderr",
     "output_type": "stream",
     "text": [
      "<ipython-input-26-4dea8a558364>:1: SettingWithCopyWarning: \n",
      "A value is trying to be set on a copy of a slice from a DataFrame.\n",
      "Try using .loc[row_indexer,col_indexer] = value instead\n",
      "\n",
      "See the caveats in the documentation: https://pandas.pydata.org/pandas-docs/stable/user_guide/indexing.html#returning-a-view-versus-a-copy\n",
      "  df['sentiment'] = df['reviews.rating'].apply(map_sentiment)\n"
     ]
    }
   ],
   "source": [
    "df['sentiment'] = df['reviews.rating'].apply(map_sentiment)\n"
   ]
  },
  {
   "cell_type": "markdown",
   "id": "e17fb7b1",
   "metadata": {
    "id": "VrhGfEL-M0Dm"
   },
   "source": [
    "## Display class distribution\n"
   ]
  },
  {
   "cell_type": "code",
   "execution_count": 27,
   "id": "c1a904f1",
   "metadata": {
    "colab": {
     "base_uri": "https://localhost:8080/"
    },
    "id": "7Mr9uuFjM0Ib",
    "outputId": "75150e0b-1b98-4860-8f99-8bf8aed2bef6"
   },
   "outputs": [
    {
     "name": "stdout",
     "output_type": "stream",
     "text": [
      "sentiment\n",
      "positive    32274\n",
      "neutral      1499\n",
      "negative      811\n",
      "Name: count, dtype: int64\n"
     ]
    }
   ],
   "source": [
    "print(df['sentiment'].value_counts())\n"
   ]
  },
  {
   "cell_type": "markdown",
   "id": "ebb11167",
   "metadata": {
    "id": "ikG3WQo5Q-D3"
   },
   "source": [
    "##  plot class distribution\n"
   ]
  },
  {
   "cell_type": "code",
   "execution_count": 28,
   "id": "0db067e9",
   "metadata": {
    "colab": {
     "base_uri": "https://localhost:8080/",
     "height": 517
    },
    "id": "PA1qw2pkQ-Ju",
    "outputId": "6e078708-3aa9-4e38-b0e3-d849a1e8010b"
   },
   "outputs": [
    {
     "name": "stderr",
     "output_type": "stream",
     "text": [
      "<ipython-input-28-6c8975ba6e70>:2: FutureWarning: \n",
      "\n",
      "Passing `palette` without assigning `hue` is deprecated and will be removed in v0.14.0. Assign the `x` variable to `hue` and set `legend=False` for the same effect.\n",
      "\n",
      "  sns.countplot(x=df['sentiment'], palette='cool')\n"
     ]
    },
    {
     "data": {
      "image/png": "[encoded data removed]",
      "text/plain": [
       "<Figure size 600x400 with 1 Axes>"
      ]
     },
     "metadata": {},
     "output_type": "display_data"
    }
   ],
   "source": [
    "plt.figure(figsize=(6, 4))\n",
    "sns.countplot(x=df['sentiment'], palette='cool')\n",
    "plt.title('Sentiment Class Distribution')\n",
    "plt.xlabel('Sentiment')\n",
    "plt.ylabel('Count')\n",
    "plt.show()"
   ]
  },
  {
   "cell_type": "markdown",
   "id": "bbdb8c19",
   "metadata": {
    "id": "D5wGmdTNWhBh"
   },
   "source": [
    "# ⚖️ Step 5: Fixing Class Imbalance"
   ]
  },
  {
   "cell_type": "markdown",
   "id": "cedbc6f2",
   "metadata": {
    "id": "rtxCK8CUQ-Oc"
   },
   "source": [
    "## Oversample Minority Classes"
   ]
  },
  {
   "cell_type": "code",
   "execution_count": 29,
   "id": "4dcd9bb8",
   "metadata": {
    "colab": {
     "base_uri": "https://localhost:8080/"
    },
    "id": "pmTcUhaIQ-TO",
    "outputId": "55f12486-c950-4bbe-f8e1-b54e1d6ee85b"
   },
   "outputs": [
    {
     "name": "stdout",
     "output_type": "stream",
     "text": [
      "sentiment\n",
      "positive    32274\n",
      "negative    32274\n",
      "neutral     32274\n",
      "Name: count, dtype: int64\n"
     ]
    }
   ],
   "source": [
    "from sklearn.utils import resample\n",
    "\n",
    "# Separate by sentiment class\n",
    "df_positive = df[df['sentiment'] == 'positive']\n",
    "df_neutral  = df[df['sentiment'] == 'neutral']\n",
    "df_negative = df[df['sentiment'] == 'negative']\n",
    "\n",
    "# Find the majority count\n",
    "max_size = max(len(df_positive), len(df_neutral), len(df_negative))\n",
    "\n",
    "# Resample all to match the largest class\n",
    "df_positive_resampled = resample(df_positive, replace=True, n_samples=max_size, random_state=42)\n",
    "df_neutral_resampled  = resample(df_neutral, replace=True, n_samples=max_size, random_state=42)\n",
    "df_negative_resampled = resample(df_negative, replace=True, n_samples=max_size, random_state=42)\n",
    "\n",
    "# Combine them into a new balanced dataframe\n",
    "df_balanced = pd.concat([df_positive_resampled, df_neutral_resampled, df_negative_resampled])\n",
    "\n",
    "# Shuffle the dataset\n",
    "df_balanced = df_balanced.sample(frac=1, random_state=42).reset_index(drop=True)\n",
    "\n",
    "# Print new distribution\n",
    "print(df_balanced['sentiment'].value_counts())"
   ]
  },
  {
   "cell_type": "markdown",
   "id": "99661e5f",
   "metadata": {
    "id": "sxLpmYWmQ-Xr"
   },
   "source": [
    "# 🧼 Step 6: Preparing the Text for Modeling"
   ]
  },
  {
   "cell_type": "code",
   "execution_count": 30,
   "id": "d98a9fad",
   "metadata": {
    "colab": {
     "base_uri": "https://localhost:8080/"
    },
    "id": "L4lXKHmsQ-cT",
    "outputId": "dcc16b1a-cc21-49aa-a93b-8116fb6e552b"
   },
   "outputs": [
    {
     "name": "stdout",
     "output_type": "stream",
     "text": [
      "                                           clean_text sentiment  label\n",
      "0   this is a great tables for browsing the net re...  positive      2\n",
      "1   downloaded movies for my son to watch and the ...  negative      0\n",
      "2   not sure what all the hype is about this ai is...  negative      0\n",
      "3   this is my first tablet and i have yet to do m...  positive      2\n",
      "4   ordered dec 9th and got my order after christm...  negative      0\n",
      "5   the tablet stop working after the second week ...  negative      0\n",
      "6             no access to the internetwont recommend  negative      0\n",
      "7   i read reviews before making a decision for my...  negative      0\n",
      "8   very cheap and was not impressed at all never ...  negative      0\n",
      "9   i purchased this item back in the first quarte...   neutral      1\n",
      "10  overall good but does not find 5ghz networks w...  positive      2\n",
      "11  i bought this tablet for my mother 12715 as a ...  negative      0\n",
      "12  bought for my little daughter and so far its h...   neutral      1\n",
      "13  bought two of them first one would not charge ...  negative      0\n",
      "14  we cut our cable in hopes to just use this pro...  negative      0\n",
      "15  u thought it was going to be like an ipad or s...  negative      0\n",
      "16  i started the set up process and it automatica...  positive      2\n",
      "17  convenient and easy for my 10 year old to use ...  positive      2\n",
      "18  its ok i would recommend it to friends for sur...   neutral      1\n",
      "19  the kindle is great for just reading books and...   neutral      1\n"
     ]
    }
   ],
   "source": [
    "import re\n",
    "from sklearn.preprocessing import LabelEncoder\n",
    "\n",
    "# Simple text cleaning function\n",
    "def clean_text(text):\n",
    "    text = str(text)\n",
    "    text = re.sub(r'<.*?>', '', text)        # remove HTML\n",
    "    text = re.sub(r'[^a-zA-Z0-9\\s]', '', text) # remove special chars\n",
    "    text = text.lower()                       # lowercase\n",
    "    text = text.strip()                       # remove extra whitespace\n",
    "    return text\n",
    "\n",
    "# Apply cleaning\n",
    "df_balanced['clean_text'] = df_balanced['reviews.text'].apply(clean_text)\n",
    "\n",
    "# Encode sentiment labels to integers\n",
    "label_encoder = LabelEncoder()\n",
    "df_balanced['label'] = label_encoder.fit_transform(df_balanced['sentiment'])\n",
    "\n",
    "# Preview result\n",
    "print(df_balanced[['clean_text', 'sentiment', 'label']].head(20))"
   ]
  },
  {
   "cell_type": "markdown",
   "id": "00a929e3",
   "metadata": {
    "id": "iBWc6iL9Q-gm"
   },
   "source": [
    "# Step 7: Tokenization & Data Splitting. 🔥📦"
   ]
  },
  {
   "cell_type": "code",
   "execution_count": 31,
   "id": "b31745b0",
   "metadata": {
    "id": "1e4DYwQxQ-k-"
   },
   "outputs": [],
   "source": [
    "from transformers import BertTokenizer\n",
    "from sklearn.model_selection import train_test_split\n",
    "import torch"
   ]
  },
  {
   "cell_type": "markdown",
   "id": "af60aa1b",
   "metadata": {
    "id": "eSL-LNSkQ-pa"
   },
   "source": [
    "## Load BERT tokenizer\n"
   ]
  },
  {
   "cell_type": "code",
   "execution_count": 32,
   "id": "bfa203f9",
   "metadata": {
    "colab": {
     "base_uri": "https://localhost:8080/",
     "height": 269,
     "referenced_widgets": [
      "9d70844fc17d477fbc0022676420954a",
      "4b9928ef86124f52a674c4542bcf6b92",
      "46b66e21be1348cca282a3141624ae4d",
      "8a7ce068c1554177bdac24d262238a27",
      "1a52868c47dc41469d50e3bcd9fbfdd5",
      "bb6325182b9745299481a61aa0bb10fc",
      "654287ce31354563b078a87626385f11",
      "40ef6ac2099b4c0f92ac76cc8d88be52",
      "8e0052ba309c4a1ea0ced6a5f2724407",
      "0c91cdbaa5154077838425cacdc34350",
      "ad35c1c8f8ea497d94c55fc537f23c6b",
      "c448c189dfd8422a843a509426b03ecd",
      "577a11ffe0ba42ebadbfcd7e09bf0a2c",
      "9f18115a90f044eebb6bcaa723822ab3",
      "de64c4e5db4144c398078a772d1f3412",
      "42797ffbd39040078d36f71e54de9c32",
      "0d9ad10b56dc454db705b072f5f9d7a5",
      "2c6c64f4cd864ce4816874b4fd7a8330",
      "47c974b59554496da04f78bc623cc98d",
      "56c2c40144e04e89872f24b7e85e0421",
      "4982ac66d2ec45cc91c94609c2cc22f8",
      "365bc26c9d8c4323afa4f30a15eab974",
      "2567bbe3af6f4d629e045e9cab25cbd5",
      "24f18d27289f408799b03d214a29c25e",
      "6a255500b3c546f9a7deac103640c4ef",
      "aed415772c734f89beb98c82e0bad421",
      "f72e18523bf94d2ba99d5f1929b43744",
      "87186a57604d4d60b5597bacd2496907",
      "b87431086b084f279db0e4f2843fd918",
      "a2f0acef07624e869719cd28b32da0f5",
      "43d8c13638844b579a276ca877d216a1",
      "773a0348a13d43f5bc0761b4c3c8a8b5",
      "d1ceb4a34e594c948fc9a66c56aac063",
      "b72c9c8c68814d89bbd2833c822dab9a",
      "dc78245643c94bacaa693a25fc471c3f",
      "10db2a1edcfe4d648255f4a606a4d039",
      "2ed2376ed192463c91fb2a9a1f43c789",
      "f9b3d79b310c42dfae812d3e5348a19a",
      "4716a049bfd34016b8c39c9f100301aa",
      "2b290cac6e9940ad8861473f234671be",
      "d0d2b3bea9c4496cb0f77bacd3039e6e",
      "53bc2cc8d102484ebf06d50d5b0bbf68",
      "d60519580bdd447e9f7cdd720d926c40",
      "99e9fc50834b43b499f4dd66a9f06011"
     ]
    },
    "id": "3I2TKDqtQ-t5",
    "outputId": "14ccba75-0db8-4266-e0d8-71d3654fb68c"
   },
   "outputs": [
    {
     "name": "stderr",
     "output_type": "stream",
     "text": [
      "/usr/local/lib/python3.11/dist-packages/huggingface_hub/utils/_auth.py:94: UserWarning: \n",
      "The secret `HF_TOKEN` does not exist in your Colab secrets.\n",
      "To authenticate with the Hugging Face Hub, create a token in your settings tab (https://huggingface.co/settings/tokens), set it as secret in your Google Colab and restart your session.\n",
      "You will be able to reuse this secret in all of your notebooks.\n",
      "Please note that authentication is recommended but still optional to access public models or datasets.\n",
      "  warnings.warn(\n"
     ]
    },
    {
     "data": {
      "application/vnd.jupyter.widget-view+json": {
       "model_id": "9d70844fc17d477fbc0022676420954a",
       "version_major": 2,
       "version_minor": 0
      },
      "text/plain": [
       "tokenizer_config.json:   0%|          | 0.00/48.0 [00:00<?, ?B/s]"
      ]
     },
     "metadata": {},
     "output_type": "display_data"
    },
    {
     "data": {
      "application/vnd.jupyter.widget-view+json": {
       "model_id": "c448c189dfd8422a843a509426b03ecd",
       "version_major": 2,
       "version_minor": 0
      },
      "text/plain": [
       "vocab.txt:   0%|          | 0.00/232k [00:00<?, ?B/s]"
      ]
     },
     "metadata": {},
     "output_type": "display_data"
    },
    {
     "data": {
      "application/vnd.jupyter.widget-view+json": {
       "model_id": "2567bbe3af6f4d629e045e9cab25cbd5",
       "version_major": 2,
       "version_minor": 0
      },
      "text/plain": [
       "tokenizer.json:   0%|          | 0.00/466k [00:00<?, ?B/s]"
      ]
     },
     "metadata": {},
     "output_type": "display_data"
    },
    {
     "data": {
      "application/vnd.jupyter.widget-view+json": {
       "model_id": "b72c9c8c68814d89bbd2833c822dab9a",
       "version_major": 2,
       "version_minor": 0
      },
      "text/plain": [
       "config.json:   0%|          | 0.00/570 [00:00<?, ?B/s]"
      ]
     },
     "metadata": {},
     "output_type": "display_data"
    }
   ],
   "source": [
    "tokenizer = BertTokenizer.from_pretrained('bert-base-uncased')"
   ]
  },
  {
   "cell_type": "markdown",
   "id": "eb1ed6ab",
   "metadata": {
    "id": "YyP_44EtQ-x7"
   },
   "source": [
    "## Tokenize the data\n"
   ]
  },
  {
   "cell_type": "code",
   "execution_count": 33,
   "id": "effcc287",
   "metadata": {
    "id": "tcno4aHPQ-2E"
   },
   "outputs": [],
   "source": [
    "encodings = tokenizer(\n",
    "    list(df_balanced['clean_text']),\n",
    "    truncation=True,\n",
    "    padding=True,\n",
    "    max_length=128,\n",
    "    return_tensors='pt'\n",
    ")"
   ]
  },
  {
   "cell_type": "markdown",
   "id": "45e8b91b",
   "metadata": {
    "id": "vBOEJPImQ-6R"
   },
   "source": [
    "## Labels\n"
   ]
  },
  {
   "cell_type": "code",
   "execution_count": 34,
   "id": "7f089383",
   "metadata": {
    "id": "7Rgxo_9zQ--p"
   },
   "outputs": [],
   "source": [
    "labels = torch.tensor(df_balanced['label'].values)"
   ]
  },
  {
   "cell_type": "markdown",
   "id": "3d14c17c",
   "metadata": {
    "id": "IO0XLr8zQ_DB"
   },
   "source": [
    "## Train-test split\n"
   ]
  },
  {
   "cell_type": "code",
   "execution_count": 35,
   "id": "1c6ede17",
   "metadata": {
    "id": "01zhqi7rQ_He"
   },
   "outputs": [],
   "source": [
    "train_inputs, test_inputs, train_labels, test_labels = train_test_split(\n",
    "    encodings['input_ids'], labels, test_size=0.2, random_state=42, stratify=labels\n",
    ")\n",
    "train_masks, test_masks = train_test_split(\n",
    "    encodings['attention_mask'], test_size=0.2, random_state=42, stratify=labels\n",
    ")"
   ]
  },
  {
   "cell_type": "markdown",
   "id": "0cd5608d",
   "metadata": {
    "id": "X3WOarokQ_MA"
   },
   "source": [
    "## Confirm shapes\n"
   ]
  },
  {
   "cell_type": "code",
   "execution_count": 36,
   "id": "6f837051",
   "metadata": {
    "colab": {
     "base_uri": "https://localhost:8080/"
    },
    "id": "0R3iZg6cQ_QR",
    "outputId": "e10f10d3-1f65-4d79-dbd9-bde0b415123f"
   },
   "outputs": [
    {
     "name": "stdout",
     "output_type": "stream",
     "text": [
      "Train size: 77457\n",
      "Test size: 19365\n"
     ]
    }
   ],
   "source": [
    "print(\"Train size:\", train_inputs.shape[0])\n",
    "print(\"Test size:\", test_inputs.shape[0])"
   ]
  },
  {
   "cell_type": "markdown",
   "id": "142d800a",
   "metadata": {
    "id": "Qrc22xHfQ_U7"
   },
   "source": [
    "# 🤖 Step 8: Build & Train the BERT Classification Model"
   ]
  },
  {
   "cell_type": "code",
   "execution_count": 37,
   "id": "b3ebf271",
   "metadata": {
    "id": "oNDQVoObQ_ZY"
   },
   "outputs": [],
   "source": [
    "from torch.utils.data import DataLoader, TensorDataset, RandomSampler, SequentialSampler\n",
    "from transformers import BertForSequenceClassification\n",
    "from torch.optim import AdamW\n",
    "import torch.nn as nn\n",
    "import numpy as np\n"
   ]
  },
  {
   "cell_type": "markdown",
   "id": "0c122c13",
   "metadata": {
    "id": "_svDYrSo7GAr"
   },
   "source": [
    "## Create TensorDataset\n"
   ]
  },
  {
   "cell_type": "code",
   "execution_count": 38,
   "id": "bb816739",
   "metadata": {
    "id": "WS9eoE357GId"
   },
   "outputs": [],
   "source": [
    "train_dataset = TensorDataset(train_inputs, train_masks, train_labels)\n",
    "test_dataset = TensorDataset(test_inputs, test_masks, test_labels)"
   ]
  },
  {
   "cell_type": "markdown",
   "id": "e05d4b35",
   "metadata": {
    "id": "0JGX7Fg26rZM"
   },
   "source": [
    "## Load pretrained BERT with 3 output labels"
   ]
  },
  {
   "cell_type": "code",
   "execution_count": 39,
   "id": "9ebf685b",
   "metadata": {
    "colab": {
     "base_uri": "https://localhost:8080/",
     "height": 104,
     "referenced_widgets": [
      "e3e55887b3574fbd9b61f5393a354483",
      "1f53c21968704f3b9cfba3760b55a61e",
      "70bff893915f48deb096371ef0870c93",
      "d92223e424b5447386f938e0eec2c61a",
      "3a3f992ac1f646a9873333006f3369e8",
      "f240723ea3e34e3aad0d9a62fc5d74e2",
      "416264bd4ba94574832e8bb9caefe000",
      "c6740decf1b7446c9505721b7d43aabe",
      "020a09a61cfc48a186517cb1e90d45dc",
      "a20f23309c0c4c578e70fbd5680c10f7",
      "c79bcbfffd5c4b54be4849bbee2f0be4"
     ]
    },
    "id": "6vPviWYK6q0B",
    "outputId": "e38d942a-4153-4878-b120-a1c7336b07ee"
   },
   "outputs": [
    {
     "data": {
      "application/vnd.jupyter.widget-view+json": {
       "model_id": "e3e55887b3574fbd9b61f5393a354483",
       "version_major": 2,
       "version_minor": 0
      },
      "text/plain": [
       "model.safetensors:   0%|          | 0.00/440M [00:00<?, ?B/s]"
      ]
     },
     "metadata": {},
     "output_type": "display_data"
    },
    {
     "name": "stderr",
     "output_type": "stream",
     "text": [
      "Some weights of BertForSequenceClassification were not initialized from the model checkpoint at bert-base-uncased and are newly initialized: ['classifier.bias', 'classifier.weight']\n",
      "You should probably TRAIN this model on a down-stream task to be able to use it for predictions and inference.\n"
     ]
    }
   ],
   "source": [
    "model = BertForSequenceClassification.from_pretrained('bert-base-uncased', num_labels=3)"
   ]
  },
  {
   "cell_type": "markdown",
   "id": "78b33d64",
   "metadata": {
    "id": "iJg-c5laQ_eI"
   },
   "source": [
    "## Setup\n",
    "\n"
   ]
  },
  {
   "cell_type": "code",
   "execution_count": 40,
   "id": "84e63f14",
   "metadata": {
    "id": "tczYNDsLQ_ik"
   },
   "outputs": [],
   "source": [
    "epochs = 3\n",
    "batch_size = 16"
   ]
  },
  {
   "cell_type": "markdown",
   "id": "856b7aa6",
   "metadata": {
    "id": "vR5iWK8yQ_nc"
   },
   "source": [
    "# Use GPU if available"
   ]
  },
  {
   "cell_type": "code",
   "execution_count": 41,
   "id": "f7845e44",
   "metadata": {
    "colab": {
     "base_uri": "https://localhost:8080/"
    },
    "id": "t7SMsOgiQ_r8",
    "outputId": "9dbfec60-e76e-4eef-99a7-71b551900502"
   },
   "outputs": [
    {
     "data": {
      "text/plain": [
       "BertForSequenceClassification(\n",
       "  (bert): BertModel(\n",
       "    (embeddings): BertEmbeddings(\n",
       "      (word_embeddings): Embedding(30522, 768, padding_idx=0)\n",
       "      (position_embeddings): Embedding(512, 768)\n",
       "      (token_type_embeddings): Embedding(2, 768)\n",
       "      (LayerNorm): LayerNorm((768,), eps=1e-12, elementwise_affine=True)\n",
       "      (dropout): Dropout(p=0.1, inplace=False)\n",
       "    )\n",
       "    (encoder): BertEncoder(\n",
       "      (layer): ModuleList(\n",
       "        (0-11): 12 x BertLayer(\n",
       "          (attention): BertAttention(\n",
       "            (self): BertSdpaSelfAttention(\n",
       "              (query): Linear(in_features=768, out_features=768, bias=True)\n",
       "              (key): Linear(in_features=768, out_features=768, bias=True)\n",
       "              (value): Linear(in_features=768, out_features=768, bias=True)\n",
       "              (dropout): Dropout(p=0.1, inplace=False)\n",
       "            )\n",
       "            (output): BertSelfOutput(\n",
       "              (dense): Linear(in_features=768, out_features=768, bias=True)\n",
       "              (LayerNorm): LayerNorm((768,), eps=1e-12, elementwise_affine=True)\n",
       "              (dropout): Dropout(p=0.1, inplace=False)\n",
       "            )\n",
       "          )\n",
       "          (intermediate): BertIntermediate(\n",
       "            (dense): Linear(in_features=768, out_features=3072, bias=True)\n",
       "            (intermediate_act_fn): GELUActivation()\n",
       "          )\n",
       "          (output): BertOutput(\n",
       "            (dense): Linear(in_features=3072, out_features=768, bias=True)\n",
       "            (LayerNorm): LayerNorm((768,), eps=1e-12, elementwise_affine=True)\n",
       "            (dropout): Dropout(p=0.1, inplace=False)\n",
       "          )\n",
       "        )\n",
       "      )\n",
       "    )\n",
       "    (pooler): BertPooler(\n",
       "      (dense): Linear(in_features=768, out_features=768, bias=True)\n",
       "      (activation): Tanh()\n",
       "    )\n",
       "  )\n",
       "  (dropout): Dropout(p=0.1, inplace=False)\n",
       "  (classifier): Linear(in_features=768, out_features=3, bias=True)\n",
       ")"
      ]
     },
     "execution_count": 41,
     "metadata": {},
     "output_type": "execute_result"
    }
   ],
   "source": [
    "device = torch.device('cuda' if torch.cuda.is_available() else 'cpu')\n",
    "model.to(device)"
   ]
  },
  {
   "cell_type": "markdown",
   "id": "56bc5009",
   "metadata": {
    "id": "OyJkKcJ2Q_wZ"
   },
   "source": [
    "## Dataloaders\n",
    "\n"
   ]
  },
  {
   "cell_type": "code",
   "execution_count": 42,
   "id": "89f50fb3",
   "metadata": {
    "id": "6ajVUoPWQ_1C"
   },
   "outputs": [],
   "source": [
    "train_sampler = RandomSampler(train_dataset)\n",
    "train_loader = DataLoader(train_dataset, sampler=train_sampler, batch_size=batch_size)\n",
    "\n",
    "val_sampler = SequentialSampler(test_dataset)\n",
    "val_loader = DataLoader(test_dataset, sampler=val_sampler, batch_size=batch_size)"
   ]
  },
  {
   "cell_type": "markdown",
   "id": "40911087",
   "metadata": {
    "id": "Lj1tmn3LQ_53"
   },
   "source": [
    "## Loss function\n",
    "\n"
   ]
  },
  {
   "cell_type": "code",
   "execution_count": 43,
   "id": "070f5c42",
   "metadata": {
    "id": "HtLMi_kvQ_-n"
   },
   "outputs": [],
   "source": [
    "loss_fn = nn.CrossEntropyLoss()\n",
    "\n"
   ]
  },
  {
   "cell_type": "markdown",
   "id": "25a90427",
   "metadata": {
    "id": "bCLdFoAORADT"
   },
   "source": [
    "## Optimizer\n"
   ]
  },
  {
   "cell_type": "code",
   "execution_count": 44,
   "id": "747c7bc5",
   "metadata": {
    "id": "GuwZ5DHcRAIO"
   },
   "outputs": [],
   "source": [
    "optimizer = AdamW(model.parameters(), lr=2e-5)\n"
   ]
  },
  {
   "cell_type": "markdown",
   "id": "f4162575",
   "metadata": {
    "id": "1XDwcU1iespZ"
   },
   "source": [
    "## Training loop\n"
   ]
  },
  {
   "cell_type": "code",
   "execution_count": 45,
   "id": "f68b4bb9",
   "metadata": {
    "colab": {
     "base_uri": "https://localhost:8080/"
    },
    "id": "VzYSBsIPesw3",
    "outputId": "4f8f17c9-4ec6-4329-ef32-e340ca79dee6"
   },
   "outputs": [
    {
     "name": "stdout",
     "output_type": "stream",
     "text": [
      "\n",
      "🌀 Epoch 1/3\n",
      "------------------------------\n",
      "Step 0: Train Loss = 1.0795\n",
      "Step 50: Train Loss = 0.6519\n",
      "Step 100: Train Loss = 0.7406\n",
      "Step 150: Train Loss = 0.6887\n",
      "Step 200: Train Loss = 0.5900\n",
      "Step 250: Train Loss = 0.5688\n",
      "Step 300: Train Loss = 0.6009\n",
      "Step 350: Train Loss = 0.3775\n",
      "Step 400: Train Loss = 0.5614\n",
      "Step 450: Train Loss = 0.3071\n",
      "Step 500: Train Loss = 0.4855\n",
      "Step 550: Train Loss = 0.5294\n",
      "Step 600: Train Loss = 0.5355\n",
      "Step 650: Train Loss = 0.3735\n",
      "Step 700: Train Loss = 0.2000\n",
      "Step 750: Train Loss = 0.6666\n",
      "Step 800: Train Loss = 0.2477\n",
      "Step 850: Train Loss = 0.3775\n",
      "Step 900: Train Loss = 0.2074\n",
      "Step 950: Train Loss = 0.3731\n",
      "Step 1000: Train Loss = 0.0893\n",
      "Step 1050: Train Loss = 0.3305\n",
      "Step 1100: Train Loss = 0.1909\n",
      "Step 1150: Train Loss = 0.2946\n",
      "Step 1200: Train Loss = 0.0439\n",
      "Step 1250: Train Loss = 0.1879\n",
      "Step 1300: Train Loss = 0.2092\n",
      "Step 1350: Train Loss = 0.2649\n",
      "Step 1400: Train Loss = 0.1705\n",
      "Step 1450: Train Loss = 0.3973\n",
      "Step 1500: Train Loss = 0.0409\n",
      "Step 1550: Train Loss = 0.0566\n",
      "Step 1600: Train Loss = 0.1180\n",
      "Step 1650: Train Loss = 0.0373\n",
      "Step 1700: Train Loss = 0.0230\n",
      "Step 1750: Train Loss = 0.0378\n",
      "Step 1800: Train Loss = 0.3414\n",
      "Step 1850: Train Loss = 0.0368\n",
      "Step 1900: Train Loss = 0.0221\n",
      "Step 1950: Train Loss = 0.0490\n",
      "Step 2000: Train Loss = 0.3645\n",
      "Step 2050: Train Loss = 0.1383\n",
      "Step 2100: Train Loss = 0.0622\n",
      "Step 2150: Train Loss = 0.0181\n",
      "Step 2200: Train Loss = 0.1051\n",
      "Step 2250: Train Loss = 0.0176\n",
      "Step 2300: Train Loss = 0.0114\n",
      "Step 2350: Train Loss = 0.4660\n",
      "Step 2400: Train Loss = 0.1006\n",
      "Step 2450: Train Loss = 0.0300\n",
      "Step 2500: Train Loss = 0.0158\n",
      "Step 2550: Train Loss = 0.0565\n",
      "Step 2600: Train Loss = 0.2418\n",
      "Step 2650: Train Loss = 0.1304\n",
      "Step 2700: Train Loss = 0.0589\n",
      "Step 2750: Train Loss = 0.0304\n",
      "Step 2800: Train Loss = 0.2127\n",
      "Step 2850: Train Loss = 0.0268\n",
      "Step 2900: Train Loss = 0.0625\n",
      "Step 2950: Train Loss = 0.0162\n",
      "Step 3000: Train Loss = 0.0307\n",
      "Step 3050: Train Loss = 0.1478\n",
      "Step 3100: Train Loss = 0.1950\n",
      "Step 3150: Train Loss = 0.1478\n",
      "Step 3200: Train Loss = 0.0161\n",
      "Step 3250: Train Loss = 0.1428\n",
      "Step 3300: Train Loss = 0.0071\n",
      "Step 3350: Train Loss = 0.3531\n",
      "Step 3400: Train Loss = 0.0086\n",
      "Step 3450: Train Loss = 0.1349\n",
      "Step 3500: Train Loss = 0.0236\n",
      "Step 3550: Train Loss = 0.0130\n",
      "Step 3600: Train Loss = 0.0106\n",
      "Step 3650: Train Loss = 0.0126\n",
      "Step 3700: Train Loss = 0.0102\n",
      "Step 3750: Train Loss = 0.0040\n",
      "Step 3800: Train Loss = 0.1313\n",
      "Step 3850: Train Loss = 0.0038\n",
      "Step 3900: Train Loss = 0.0060\n",
      "Step 3950: Train Loss = 0.0229\n",
      "Step 4000: Train Loss = 0.0324\n",
      "Step 4050: Train Loss = 0.0132\n",
      "Step 4100: Train Loss = 0.0315\n",
      "Step 4150: Train Loss = 0.0024\n",
      "Step 4200: Train Loss = 0.1985\n",
      "Step 4250: Train Loss = 0.0322\n",
      "Step 4300: Train Loss = 0.0888\n",
      "Step 4350: Train Loss = 0.1798\n",
      "Step 4400: Train Loss = 0.0420\n",
      "Step 4450: Train Loss = 0.0065\n",
      "Step 4500: Train Loss = 0.0041\n",
      "Step 4550: Train Loss = 0.1577\n",
      "Step 4600: Train Loss = 0.2683\n",
      "Step 4650: Train Loss = 0.4046\n",
      "Step 4700: Train Loss = 0.0089\n",
      "Step 4750: Train Loss = 0.1305\n",
      "Step 4800: Train Loss = 0.0106\n",
      "\n",
      "✅ Average Training Loss: 0.1922\n",
      "📉 Validation Loss: 0.0820\n",
      "\n",
      "🌀 Epoch 2/3\n",
      "------------------------------\n",
      "Step 0: Train Loss = 0.2553\n",
      "Step 50: Train Loss = 0.0164\n",
      "Step 100: Train Loss = 0.0138\n",
      "Step 150: Train Loss = 0.0104\n",
      "Step 200: Train Loss = 0.2106\n",
      "Step 250: Train Loss = 0.0277\n",
      "Step 300: Train Loss = 0.0014\n",
      "Step 350: Train Loss = 0.0033\n",
      "Step 400: Train Loss = 0.0057\n",
      "Step 450: Train Loss = 0.0085\n",
      "Step 500: Train Loss = 0.0040\n",
      "Step 550: Train Loss = 0.0040\n",
      "Step 600: Train Loss = 0.0045\n",
      "Step 650: Train Loss = 0.0310\n",
      "Step 700: Train Loss = 0.0172\n",
      "Step 750: Train Loss = 0.0030\n",
      "Step 800: Train Loss = 0.0081\n",
      "Step 850: Train Loss = 0.0170\n",
      "Step 900: Train Loss = 0.1848\n",
      "Step 950: Train Loss = 0.0025\n",
      "Step 1000: Train Loss = 0.0013\n",
      "Step 1050: Train Loss = 0.0448\n",
      "Step 1100: Train Loss = 0.0064\n",
      "Step 1150: Train Loss = 0.0730\n",
      "Step 1200: Train Loss = 0.2228\n",
      "Step 1250: Train Loss = 0.0678\n",
      "Step 1300: Train Loss = 0.0021\n",
      "Step 1350: Train Loss = 0.0018\n",
      "Step 1400: Train Loss = 0.0344\n",
      "Step 1450: Train Loss = 0.0072\n",
      "Step 1500: Train Loss = 0.0043\n",
      "Step 1550: Train Loss = 0.0278\n",
      "Step 1600: Train Loss = 0.0084\n",
      "Step 1650: Train Loss = 0.0023\n",
      "Step 1700: Train Loss = 0.0044\n",
      "Step 1750: Train Loss = 0.0162\n",
      "Step 1800: Train Loss = 0.0031\n",
      "Step 1850: Train Loss = 0.0019\n",
      "Step 1900: Train Loss = 0.0014\n",
      "Step 1950: Train Loss = 0.0015\n",
      "Step 2000: Train Loss = 0.0107\n",
      "Step 2050: Train Loss = 0.0028\n",
      "Step 2100: Train Loss = 0.0094\n",
      "Step 2150: Train Loss = 0.0049\n",
      "Step 2200: Train Loss = 0.0082\n",
      "Step 2250: Train Loss = 0.0094\n",
      "Step 2300: Train Loss = 0.0269\n",
      "Step 2350: Train Loss = 0.0023\n",
      "Step 2400: Train Loss = 0.0048\n",
      "Step 2450: Train Loss = 0.0011\n",
      "Step 2500: Train Loss = 0.0108\n",
      "Step 2550: Train Loss = 0.0301\n",
      "Step 2600: Train Loss = 0.0018\n",
      "Step 2650: Train Loss = 0.0080\n",
      "Step 2700: Train Loss = 0.0039\n",
      "Step 2750: Train Loss = 0.0010\n",
      "Step 2800: Train Loss = 0.0022\n",
      "Step 2850: Train Loss = 0.0027\n",
      "Step 2900: Train Loss = 0.3086\n",
      "Step 2950: Train Loss = 0.1370\n",
      "Step 3000: Train Loss = 0.0282\n",
      "Step 3050: Train Loss = 0.0046\n",
      "Step 3100: Train Loss = 0.0050\n",
      "Step 3150: Train Loss = 0.0022\n",
      "Step 3200: Train Loss = 0.0017\n",
      "Step 3250: Train Loss = 0.1145\n",
      "Step 3300: Train Loss = 0.0333\n",
      "Step 3350: Train Loss = 0.0072\n",
      "Step 3400: Train Loss = 0.0064\n",
      "Step 3450: Train Loss = 0.0107\n",
      "Step 3500: Train Loss = 0.0221\n",
      "Step 3550: Train Loss = 0.0098\n",
      "Step 3600: Train Loss = 0.0077\n",
      "Step 3650: Train Loss = 0.0010\n",
      "Step 3700: Train Loss = 0.0043\n",
      "Step 3750: Train Loss = 0.0007\n",
      "Step 3800: Train Loss = 0.1536\n",
      "Step 3850: Train Loss = 0.0026\n",
      "Step 3900: Train Loss = 0.0082\n",
      "Step 3950: Train Loss = 0.0061\n",
      "Step 4000: Train Loss = 0.5251\n",
      "Step 4050: Train Loss = 0.0032\n",
      "Step 4100: Train Loss = 0.0016\n",
      "Step 4150: Train Loss = 0.1832\n",
      "Step 4200: Train Loss = 0.4462\n",
      "Step 4250: Train Loss = 0.0012\n",
      "Step 4300: Train Loss = 0.0047\n",
      "Step 4350: Train Loss = 0.0042\n",
      "Step 4400: Train Loss = 0.0044\n",
      "Step 4450: Train Loss = 0.0291\n",
      "Step 4500: Train Loss = 0.0505\n",
      "Step 4550: Train Loss = 0.0027\n",
      "Step 4600: Train Loss = 0.0019\n",
      "Step 4650: Train Loss = 0.0061\n",
      "Step 4700: Train Loss = 0.0038\n",
      "Step 4750: Train Loss = 0.0015\n",
      "Step 4800: Train Loss = 0.0016\n",
      "\n",
      "✅ Average Training Loss: 0.0348\n",
      "📉 Validation Loss: 0.0431\n",
      "\n",
      "🌀 Epoch 3/3\n",
      "------------------------------\n",
      "Step 0: Train Loss = 0.0215\n",
      "Step 50: Train Loss = 0.0139\n",
      "Step 100: Train Loss = 0.0067\n",
      "Step 150: Train Loss = 0.0036\n",
      "Step 200: Train Loss = 0.0224\n",
      "Step 250: Train Loss = 0.0027\n",
      "Step 300: Train Loss = 0.0112\n",
      "Step 350: Train Loss = 0.1611\n",
      "Step 400: Train Loss = 0.0185\n",
      "Step 450: Train Loss = 0.0017\n",
      "Step 500: Train Loss = 0.0064\n",
      "Step 550: Train Loss = 0.0184\n",
      "Step 600: Train Loss = 0.0023\n",
      "Step 650: Train Loss = 0.0005\n",
      "Step 700: Train Loss = 0.0004\n",
      "Step 750: Train Loss = 0.0076\n",
      "Step 800: Train Loss = 0.0128\n",
      "Step 850: Train Loss = 0.4822\n",
      "Step 900: Train Loss = 0.0005\n",
      "Step 950: Train Loss = 0.0120\n",
      "Step 1000: Train Loss = 0.0057\n",
      "Step 1050: Train Loss = 0.0249\n",
      "Step 1100: Train Loss = 0.0007\n",
      "Step 1150: Train Loss = 0.0009\n",
      "Step 1200: Train Loss = 0.0015\n",
      "Step 1250: Train Loss = 0.0015\n",
      "Step 1300: Train Loss = 0.0045\n",
      "Step 1350: Train Loss = 0.0007\n",
      "Step 1400: Train Loss = 0.0030\n",
      "Step 1450: Train Loss = 0.0630\n",
      "Step 1500: Train Loss = 0.0035\n",
      "Step 1550: Train Loss = 0.0003\n",
      "Step 1600: Train Loss = 0.0004\n",
      "Step 1650: Train Loss = 0.0005\n",
      "Step 1700: Train Loss = 0.0141\n",
      "Step 1750: Train Loss = 0.0003\n",
      "Step 1800: Train Loss = 0.0051\n",
      "Step 1850: Train Loss = 0.1136\n",
      "Step 1900: Train Loss = 0.0021\n",
      "Step 1950: Train Loss = 0.0004\n",
      "Step 2000: Train Loss = 0.0004\n",
      "Step 2050: Train Loss = 0.0006\n",
      "Step 2100: Train Loss = 0.0017\n",
      "Step 2150: Train Loss = 0.0039\n",
      "Step 2200: Train Loss = 0.0027\n",
      "Step 2250: Train Loss = 0.0013\n",
      "Step 2300: Train Loss = 0.0453\n",
      "Step 2350: Train Loss = 0.0011\n",
      "Step 2400: Train Loss = 0.0005\n",
      "Step 2450: Train Loss = 0.0010\n",
      "Step 2500: Train Loss = 0.0009\n",
      "Step 2550: Train Loss = 0.0005\n",
      "Step 2600: Train Loss = 0.0010\n",
      "Step 2650: Train Loss = 0.0004\n",
      "Step 2700: Train Loss = 0.0238\n",
      "Step 2750: Train Loss = 0.0024\n",
      "Step 2800: Train Loss = 0.0015\n",
      "Step 2850: Train Loss = 0.0002\n",
      "Step 2900: Train Loss = 0.0007\n",
      "Step 2950: Train Loss = 0.0002\n",
      "Step 3000: Train Loss = 0.3715\n",
      "Step 3050: Train Loss = 0.0023\n",
      "Step 3100: Train Loss = 0.0002\n",
      "Step 3150: Train Loss = 0.0005\n",
      "Step 3200: Train Loss = 0.0186\n",
      "Step 3250: Train Loss = 0.4163\n",
      "Step 3300: Train Loss = 0.1061\n",
      "Step 3350: Train Loss = 0.1383\n",
      "Step 3400: Train Loss = 0.0028\n",
      "Step 3450: Train Loss = 0.0004\n",
      "Step 3500: Train Loss = 0.0021\n",
      "Step 3550: Train Loss = 0.0025\n",
      "Step 3600: Train Loss = 0.0211\n",
      "Step 3650: Train Loss = 0.0004\n",
      "Step 3700: Train Loss = 0.0042\n",
      "Step 3750: Train Loss = 0.0167\n",
      "Step 3800: Train Loss = 0.0065\n",
      "Step 3850: Train Loss = 0.0039\n",
      "Step 3900: Train Loss = 0.0003\n",
      "Step 3950: Train Loss = 0.0008\n",
      "Step 4000: Train Loss = 0.0008\n",
      "Step 4050: Train Loss = 0.0005\n",
      "Step 4100: Train Loss = 0.0016\n",
      "Step 4150: Train Loss = 0.0004\n",
      "Step 4200: Train Loss = 0.0006\n",
      "Step 4250: Train Loss = 0.0133\n",
      "Step 4300: Train Loss = 0.0026\n",
      "Step 4350: Train Loss = 0.0005\n",
      "Step 4400: Train Loss = 0.0006\n",
      "Step 4450: Train Loss = 0.0052\n",
      "Step 4500: Train Loss = 0.0037\n",
      "Step 4550: Train Loss = 0.0035\n",
      "Step 4600: Train Loss = 0.0023\n",
      "Step 4650: Train Loss = 0.0195\n",
      "Step 4700: Train Loss = 0.0106\n",
      "Step 4750: Train Loss = 0.0226\n",
      "Step 4800: Train Loss = 0.0070\n",
      "\n",
      "✅ Average Training Loss: 0.0204\n",
      "📉 Validation Loss: 0.0254\n"
     ]
    }
   ],
   "source": [
    "for epoch in range(epochs):\n",
    "    print(f\"\\n🌀 Epoch {epoch+1}/{epochs}\")\n",
    "    print(\"-\" * 30)\n",
    "\n",
    "    # Training\n",
    "    model.train()\n",
    "    total_train_loss = 0\n",
    "\n",
    "    for step, batch in enumerate(train_loader):\n",
    "        batch = tuple(t.to(device) for t in batch)\n",
    "        input_ids, attention_mask, labels = batch\n",
    "\n",
    "        optimizer.zero_grad()\n",
    "        outputs = model(input_ids, attention_mask=attention_mask, labels=labels)\n",
    "        loss = outputs.loss\n",
    "\n",
    "        loss.backward()\n",
    "        optimizer.step()\n",
    "\n",
    "        total_train_loss += loss.item()\n",
    "\n",
    "        if step % 50 == 0:\n",
    "            print(f\"Step {step}: Train Loss = {loss.item():.4f}\")\n",
    "\n",
    "    avg_train_loss = total_train_loss / len(train_loader)\n",
    "    print(f\"\\n✅ Average Training Loss: {avg_train_loss:.4f}\")\n",
    "\n",
    "    # Validation\n",
    "    model.eval()\n",
    "    total_val_loss = 0\n",
    "\n",
    "    with torch.no_grad():\n",
    "        for batch in val_loader:\n",
    "            batch = tuple(t.to(device) for t in batch)\n",
    "            input_ids, attention_mask, labels = batch\n",
    "\n",
    "            outputs = model(input_ids, attention_mask=attention_mask, labels=labels)\n",
    "            loss = outputs.loss\n",
    "            total_val_loss += loss.item()\n",
    "\n",
    "    avg_val_loss = total_val_loss / len(val_loader)\n",
    "    print(f\"📉 Validation Loss: {avg_val_loss:.4f}\")"
   ]
  },
  {
   "cell_type": "markdown",
   "id": "a22cdb6f",
   "metadata": {
    "id": "IjdzbZYTetDf"
   },
   "source": [
    "# 📊 Step 9: Evaluate Model Accuracy & Metrics"
   ]
  },
  {
   "cell_type": "markdown",
   "id": "a1ef3032",
   "metadata": {
    "id": "je79JryOda59"
   },
   "source": [
    "# 💾 Step 10: Save the Trained Model & Final Cleaned Dataset"
   ]
  },
  {
   "cell_type": "markdown",
   "id": "a7e553d9",
   "metadata": {
    "id": "d2-tU0ih3ppR"
   },
   "source": [
    "## Save model\n"
   ]
  },
  {
   "cell_type": "code",
   "execution_count": 50,
   "id": "e187047b",
   "metadata": {
    "colab": {
     "base_uri": "https://localhost:8080/"
    },
    "id": "HiplSDVQda_h",
    "outputId": "53e134a5-5bb4-476b-9d19-1bec8226c907"
   },
   "outputs": [
    {
     "name": "stdout",
     "output_type": "stream",
     "text": [
      "✅ Model and tokenizer saved to 'saved_model_bert_sentiment'\n"
     ]
    }
   ],
   "source": [
    "model.save_pretrained(\"saved_model_bert_sentiment\")\n",
    "tokenizer.save_pretrained(\"saved_model_bert_sentiment\")\n",
    "print(\"✅ Model and tokenizer saved to 'saved_model_bert_sentiment'\")"
   ]
  },
  {
   "cell_type": "markdown",
   "id": "d9b83a4a",
   "metadata": {
    "id": "cinW-U4bdbFT"
   },
   "source": [
    "## Save cleaned dataset to CSV\n"
   ]
  },
  {
   "cell_type": "code",
   "execution_count": 51,
   "id": "0d6cdb23",
   "metadata": {
    "colab": {
     "base_uri": "https://localhost:8080/"
    },
    "id": "k89EsbN-dbLR",
    "outputId": "3b506e35-4032-4632-9ea8-3c187c1ba8ba"
   },
   "outputs": [
    {
     "name": "stdout",
     "output_type": "stream",
     "text": [
      "✅ Cleaned dataset saved to 'cleaned_reviews.csv'\n"
     ]
    }
   ],
   "source": [
    "df_balanced.to_csv(\"cleaned_reviews.csv\", index=False)\n",
    "print(\"✅ Cleaned dataset saved to 'cleaned_reviews.csv'\")"
   ]
  },
  {
   "cell_type": "markdown",
   "id": "0691d3e7",
   "metadata": {
    "id": "DO61YLq9dbQ1"
   },
   "source": []
  },
  {
   "cell_type": "code",
   "execution_count": 52,
   "id": "f1ea03f5",
   "metadata": {
    "colab": {
     "base_uri": "https://localhost:8080/",
     "height": 690
    },
    "id": "7EtP68CgdbV-",
    "outputId": "41f2f80b-e156-4561-d561-b833e0e04687"
   },
   "outputs": [
    {
     "name": "stdout",
     "output_type": "stream",
     "text": [
      "✅ Data Loaded! Shape: (96822, 21)\n"
     ]
    },
    {
     "data": {
      "application/vnd.google.colaboratory.intrinsic+json": {
       "type": "dataframe"
      },
      "text/html": [
       "\n",
       "  <div id=\"df-b3dd0a19-3dab-4f8e-86a7-b04c5d6d9ef1\" class=\"colab-df-container\">\n",
       "    <div>\n",
       "<style scoped>\n",
       "    .dataframe tbody tr th:only-of-type {\n",
       "        vertical-align: middle;\n",
       "    }\n",
       "\n",
       "    .dataframe tbody tr th {\n",
       "        vertical-align: top;\n",
       "    }\n",
       "\n",
       "    .dataframe thead th {\n",
       "        text-align: right;\n",
       "    }\n",
       "</style>\n",
       "<table border=\"1\" class=\"dataframe\">\n",
       "  <thead>\n",
       "    <tr style=\"text-align: right;\">\n",
       "      <th></th>\n",
       "      <th>id</th>\n",
       "      <th>name</th>\n",
       "      <th>asins</th>\n",
       "      <th>brand</th>\n",
       "      <th>categories</th>\n",
       "      <th>keys</th>\n",
       "      <th>manufacturer</th>\n",
       "      <th>reviews.date</th>\n",
       "      <th>reviews.dateAdded</th>\n",
       "      <th>reviews.dateSeen</th>\n",
       "      <th>...</th>\n",
       "      <th>reviews.numHelpful</th>\n",
       "      <th>reviews.rating</th>\n",
       "      <th>reviews.sourceURLs</th>\n",
       "      <th>reviews.text</th>\n",
       "      <th>reviews.title</th>\n",
       "      <th>reviews.username</th>\n",
       "      <th>review_length</th>\n",
       "      <th>sentiment</th>\n",
       "      <th>clean_text</th>\n",
       "      <th>label</th>\n",
       "    </tr>\n",
       "  </thead>\n",
       "  <tbody>\n",
       "    <tr>\n",
       "      <th>0</th>\n",
       "      <td>AVphgVaX1cnluZ0-DR74</td>\n",
       "      <td>Fire Tablet, 7 Display, Wi-Fi, 8 GB - Includes...</td>\n",
       "      <td>B018Y229OU</td>\n",
       "      <td>Amazon</td>\n",
       "      <td>Fire Tablets,Tablets,Computers &amp; Tablets,All T...</td>\n",
       "      <td>firetablet7displaywifi8gbincludesspecialoffers...</td>\n",
       "      <td>Amazon</td>\n",
       "      <td>2016-06-22T00:00:00.000Z</td>\n",
       "      <td>2017-05-21T02:59:32Z</td>\n",
       "      <td>2017-04-30T00:20:00.000Z,2017-06-07T08:18:00.000Z</td>\n",
       "      <td>...</td>\n",
       "      <td>1.0</td>\n",
       "      <td>5.0</td>\n",
       "      <td>http://reviews.bestbuy.com/3545/5025800/review...</td>\n",
       "      <td>This is a great tables for browsing the net, r...</td>\n",
       "      <td>Great tablet. Video apps are hit or miss.</td>\n",
       "      <td>Ivancho</td>\n",
       "      <td>269</td>\n",
       "      <td>positive</td>\n",
       "      <td>this is a great tables for browsing the net re...</td>\n",
       "      <td>2</td>\n",
       "    </tr>\n",
       "    <tr>\n",
       "      <th>1</th>\n",
       "      <td>AVqVGWLKnnc1JgDc3jF1</td>\n",
       "      <td>Fire Kids Edition Tablet, 7 Display, Wi-Fi, 16...</td>\n",
       "      <td>B018Y23MNM</td>\n",
       "      <td>Amazon</td>\n",
       "      <td>Tablets,Fire Tablets,Computers &amp; Tablets,All T...</td>\n",
       "      <td>firekidseditiontablet7displaywifi16gbgreenkidp...</td>\n",
       "      <td>Amazon</td>\n",
       "      <td>2016-11-16T00:00:00.000Z</td>\n",
       "      <td>2017-06-21T07:38:05Z</td>\n",
       "      <td>2017-06-04T02:17:19.659Z,2017-06-03T18:41:39.881Z</td>\n",
       "      <td>...</td>\n",
       "      <td>0.0</td>\n",
       "      <td>2.0</td>\n",
       "      <td>http://reviews.bestbuy.com/3545/5026300/review...</td>\n",
       "      <td>Downloaded movies for my son to watch and the ...</td>\n",
       "      <td>Didn't like it</td>\n",
       "      <td>Alaska</td>\n",
       "      <td>106</td>\n",
       "      <td>negative</td>\n",
       "      <td>downloaded movies for my son to watch and the ...</td>\n",
       "      <td>0</td>\n",
       "    </tr>\n",
       "    <tr>\n",
       "      <th>2</th>\n",
       "      <td>AVpfl8cLLJeJML43AE3S</td>\n",
       "      <td>NaN</td>\n",
       "      <td>B00L9EPT8O,B01E6AO69U</td>\n",
       "      <td>Amazon</td>\n",
       "      <td>Stereos,Remote Controls,Amazon Echo,Audio Dock...</td>\n",
       "      <td>echowhite/263039693056,echowhite/152558276095,...</td>\n",
       "      <td>Amazon</td>\n",
       "      <td>2016-09-23T00:00:00.000Z</td>\n",
       "      <td>NaN</td>\n",
       "      <td>2017-09-28T00:00:00Z,2017-09-08T00:00:00Z,2017...</td>\n",
       "      <td>...</td>\n",
       "      <td>0.0</td>\n",
       "      <td>2.0</td>\n",
       "      <td>http://reviews.bestbuy.com/3545/5588528/review...</td>\n",
       "      <td>Not sure what all the hype is about, this AI i...</td>\n",
       "      <td>Extreme Disappointment</td>\n",
       "      <td>ebola</td>\n",
       "      <td>174</td>\n",
       "      <td>negative</td>\n",
       "      <td>not sure what all the hype is about this ai is...</td>\n",
       "      <td>0</td>\n",
       "    </tr>\n",
       "    <tr>\n",
       "      <th>3</th>\n",
       "      <td>AVphgVaX1cnluZ0-DR74</td>\n",
       "      <td>Fire Tablet, 7 Display, Wi-Fi, 8 GB - Includes...</td>\n",
       "      <td>B018Y229OU</td>\n",
       "      <td>Amazon</td>\n",
       "      <td>Fire Tablets,Tablets,Computers &amp; Tablets,All T...</td>\n",
       "      <td>firetablet7displaywifi8gbincludesspecialoffers...</td>\n",
       "      <td>Amazon</td>\n",
       "      <td>2016-12-23T00:00:00.000Z</td>\n",
       "      <td>2017-05-21T01:24:42Z</td>\n",
       "      <td>2017-04-30T00:09:00.000Z,2017-06-07T08:17:00.000Z</td>\n",
       "      <td>...</td>\n",
       "      <td>0.0</td>\n",
       "      <td>5.0</td>\n",
       "      <td>http://reviews.bestbuy.com/3545/5025800/review...</td>\n",
       "      <td>This is my first tablet, and I have yet to do ...</td>\n",
       "      <td>A Tablet that Meets My Needs</td>\n",
       "      <td>KhakiScoutTroopLeader</td>\n",
       "      <td>255</td>\n",
       "      <td>positive</td>\n",
       "      <td>this is my first tablet and i have yet to do m...</td>\n",
       "      <td>2</td>\n",
       "    </tr>\n",
       "    <tr>\n",
       "      <th>4</th>\n",
       "      <td>AVphgVaX1cnluZ0-DR74</td>\n",
       "      <td>Fire Tablet, 7 Display, Wi-Fi, 8 GB - Includes...</td>\n",
       "      <td>B018Y229OU</td>\n",
       "      <td>Amazon</td>\n",
       "      <td>Fire Tablets,Tablets,Computers &amp; Tablets,All T...</td>\n",
       "      <td>firetablet7displaywifi8gbincludesspecialoffers...</td>\n",
       "      <td>Amazon</td>\n",
       "      <td>2017-01-06T00:00:00.000Z</td>\n",
       "      <td>2017-05-21T01:38:08Z</td>\n",
       "      <td>2017-04-30T00:12:00.000Z,2017-06-07T08:16:00.000Z</td>\n",
       "      <td>...</td>\n",
       "      <td>0.0</td>\n",
       "      <td>1.0</td>\n",
       "      <td>http://reviews.bestbuy.com/3545/5025800/review...</td>\n",
       "      <td>Ordered dec 9th and got my order AFTER CHRISTM...</td>\n",
       "      <td>bad</td>\n",
       "      <td>aimz</td>\n",
       "      <td>96</td>\n",
       "      <td>negative</td>\n",
       "      <td>ordered dec 9th and got my order after christm...</td>\n",
       "      <td>0</td>\n",
       "    </tr>\n",
       "  </tbody>\n",
       "</table>\n",
       "<p>5 rows × 21 columns</p>\n",
       "</div>\n",
       "    <div class=\"colab-df-buttons\">\n",
       "\n",
       "  <div class=\"colab-df-container\">\n",
       "    <button class=\"colab-df-convert\" onclick=\"convertToInteractive('df-b3dd0a19-3dab-4f8e-86a7-b04c5d6d9ef1')\"\n",
       "            title=\"Convert this dataframe to an interactive table.\"\n",
       "            style=\"display:none;\">\n",
       "\n",
       "  <svg xmlns=\"http://www.w3.org/2000/svg\" height=\"24px\" viewBox=\"0 -960 960 960\">\n",
       "    <path d=\"M120-120v-720h720v720H120Zm60-500h600v-160H180v160Zm220 220h160v-160H400v160Zm0 220h160v-160H400v160ZM180-400h160v-160H180v160Zm440 0h160v-160H620v160ZM180-180h160v-160H180v160Zm440 0h160v-160H620v160Z\"/>\n",
       "  </svg>\n",
       "    </button>\n",
       "\n",
       "  <style>\n",
       "    .colab-df-container {\n",
       "      display:flex;\n",
       "      gap: 12px;\n",
       "    }\n",
       "\n",
       "    .colab-df-convert {\n",
       "      background-color: #E8F0FE;\n",
       "      border: none;\n",
       "      border-radius: 50%;\n",
       "      cursor: pointer;\n",
       "      display: none;\n",
       "      fill: #1967D2;\n",
       "      height: 32px;\n",
       "      padding: 0 0 0 0;\n",
       "      width: 32px;\n",
       "    }\n",
       "\n",
       "    .colab-df-convert:hover {\n",
       "      background-color: #E2EBFA;\n",
       "      box-shadow: 0px 1px 2px rgba(60, 64, 67, 0.3), 0px 1px 3px 1px rgba(60, 64, 67, 0.15);\n",
       "      fill: #174EA6;\n",
       "    }\n",
       "\n",
       "    .colab-df-buttons div {\n",
       "      margin-bottom: 4px;\n",
       "    }\n",
       "\n",
       "    [theme=dark] .colab-df-convert {\n",
       "      background-color: #3B4455;\n",
       "      fill: #D2E3FC;\n",
       "    }\n",
       "\n",
       "    [theme=dark] .colab-df-convert:hover {\n",
       "      background-color: #434B5C;\n",
       "      box-shadow: 0px 1px 3px 1px rgba(0, 0, 0, 0.15);\n",
       "      filter: drop-shadow(0px 1px 2px rgba(0, 0, 0, 0.3));\n",
       "      fill: #FFFFFF;\n",
       "    }\n",
       "  </style>\n",
       "\n",
       "    <script>\n",
       "      const buttonEl =\n",
       "        document.querySelector('#df-b3dd0a19-3dab-4f8e-86a7-b04c5d6d9ef1 button.colab-df-convert');\n",
       "      buttonEl.style.display =\n",
       "        google.colab.kernel.accessAllowed ? 'block' : 'none';\n",
       "\n",
       "      async function convertToInteractive(key) {\n",
       "        const element = document.querySelector('#df-b3dd0a19-3dab-4f8e-86a7-b04c5d6d9ef1');\n",
       "        const dataTable =\n",
       "          await google.colab.kernel.invokeFunction('convertToInteractive',\n",
       "                                                    [key], {});\n",
       "        if (!dataTable) return;\n",
       "\n",
       "        const docLinkHtml = 'Like what you see? Visit the ' +\n",
       "          '<a target=\"_blank\" href=https://colab.research.google.com/notebooks/data_table.ipynb>data table notebook</a>'\n",
       "          + ' to learn more about interactive tables.';\n",
       "        element.innerHTML = '';\n",
       "        dataTable['output_type'] = 'display_data';\n",
       "        await google.colab.output.renderOutput(dataTable, element);\n",
       "        const docLink = document.createElement('div');\n",
       "        docLink.innerHTML = docLinkHtml;\n",
       "        element.appendChild(docLink);\n",
       "      }\n",
       "    </script>\n",
       "  </div>\n",
       "\n",
       "\n",
       "<div id=\"df-131b1188-c2dd-4e58-bb3d-7bff4ad7c410\">\n",
       "  <button class=\"colab-df-quickchart\" onclick=\"quickchart('df-131b1188-c2dd-4e58-bb3d-7bff4ad7c410')\"\n",
       "            title=\"Suggest charts\"\n",
       "            style=\"display:none;\">\n",
       "\n",
       "<svg xmlns=\"http://www.w3.org/2000/svg\" height=\"24px\"viewBox=\"0 0 24 24\"\n",
       "     width=\"24px\">\n",
       "    <g>\n",
       "        <path d=\"M19 3H5c-1.1 0-2 .9-2 2v14c0 1.1.9 2 2 2h14c1.1 0 2-.9 2-2V5c0-1.1-.9-2-2-2zM9 17H7v-7h2v7zm4 0h-2V7h2v10zm4 0h-2v-4h2v4z\"/>\n",
       "    </g>\n",
       "</svg>\n",
       "  </button>\n",
       "\n",
       "<style>\n",
       "  .colab-df-quickchart {\n",
       "      --bg-color: #E8F0FE;\n",
       "      --fill-color: #1967D2;\n",
       "      --hover-bg-color: #E2EBFA;\n",
       "      --hover-fill-color: #174EA6;\n",
       "      --disabled-fill-color: #AAA;\n",
       "      --disabled-bg-color: #DDD;\n",
       "  }\n",
       "\n",
       "  [theme=dark] .colab-df-quickchart {\n",
       "      --bg-color: #3B4455;\n",
       "      --fill-color: #D2E3FC;\n",
       "      --hover-bg-color: #434B5C;\n",
       "      --hover-fill-color: #FFFFFF;\n",
       "      --disabled-bg-color: #3B4455;\n",
       "      --disabled-fill-color: #666;\n",
       "  }\n",
       "\n",
       "  .colab-df-quickchart {\n",
       "    background-color: var(--bg-color);\n",
       "    border: none;\n",
       "    border-radius: 50%;\n",
       "    cursor: pointer;\n",
       "    display: none;\n",
       "    fill: var(--fill-color);\n",
       "    height: 32px;\n",
       "    padding: 0;\n",
       "    width: 32px;\n",
       "  }\n",
       "\n",
       "  .colab-df-quickchart:hover {\n",
       "    background-color: var(--hover-bg-color);\n",
       "    box-shadow: 0 1px 2px rgba(60, 64, 67, 0.3), 0 1px 3px 1px rgba(60, 64, 67, 0.15);\n",
       "    fill: var(--button-hover-fill-color);\n",
       "  }\n",
       "\n",
       "  .colab-df-quickchart-complete:disabled,\n",
       "  .colab-df-quickchart-complete:disabled:hover {\n",
       "    background-color: var(--disabled-bg-color);\n",
       "    fill: var(--disabled-fill-color);\n",
       "    box-shadow: none;\n",
       "  }\n",
       "\n",
       "  .colab-df-spinner {\n",
       "    border: 2px solid var(--fill-color);\n",
       "    border-color: transparent;\n",
       "    border-bottom-color: var(--fill-color);\n",
       "    animation:\n",
       "      spin 1s steps(1) infinite;\n",
       "  }\n",
       "\n",
       "  @keyframes spin {\n",
       "    0% {\n",
       "      border-color: transparent;\n",
       "      border-bottom-color: var(--fill-color);\n",
       "      border-left-color: var(--fill-color);\n",
       "    }\n",
       "    20% {\n",
       "      border-color: transparent;\n",
       "      border-left-color: var(--fill-color);\n",
       "      border-top-color: var(--fill-color);\n",
       "    }\n",
       "    30% {\n",
       "      border-color: transparent;\n",
       "      border-left-color: var(--fill-color);\n",
       "      border-top-color: var(--fill-color);\n",
       "      border-right-color: var(--fill-color);\n",
       "    }\n",
       "    40% {\n",
       "      border-color: transparent;\n",
       "      border-right-color: var(--fill-color);\n",
       "      border-top-color: var(--fill-color);\n",
       "    }\n",
       "    60% {\n",
       "      border-color: transparent;\n",
       "      border-right-color: var(--fill-color);\n",
       "    }\n",
       "    80% {\n",
       "      border-color: transparent;\n",
       "      border-right-color: var(--fill-color);\n",
       "      border-bottom-color: var(--fill-color);\n",
       "    }\n",
       "    90% {\n",
       "      border-color: transparent;\n",
       "      border-bottom-color: var(--fill-color);\n",
       "    }\n",
       "  }\n",
       "</style>\n",
       "\n",
       "  <script>\n",
       "    async function quickchart(key) {\n",
       "      const quickchartButtonEl =\n",
       "        document.querySelector('#' + key + ' button');\n",
       "      quickchartButtonEl.disabled = true;  // To prevent multiple clicks.\n",
       "      quickchartButtonEl.classList.add('colab-df-spinner');\n",
       "      try {\n",
       "        const charts = await google.colab.kernel.invokeFunction(\n",
       "            'suggestCharts', [key], {});\n",
       "      } catch (error) {\n",
       "        console.error('Error during call to suggestCharts:', error);\n",
       "      }\n",
       "      quickchartButtonEl.classList.remove('colab-df-spinner');\n",
       "      quickchartButtonEl.classList.add('colab-df-quickchart-complete');\n",
       "    }\n",
       "    (() => {\n",
       "      let quickchartButtonEl =\n",
       "        document.querySelector('#df-131b1188-c2dd-4e58-bb3d-7bff4ad7c410 button');\n",
       "      quickchartButtonEl.style.display =\n",
       "        google.colab.kernel.accessAllowed ? 'block' : 'none';\n",
       "    })();\n",
       "  </script>\n",
       "</div>\n",
       "\n",
       "    </div>\n",
       "  </div>\n"
      ],
      "text/plain": [
       "                     id                                               name  \\\n",
       "0  AVphgVaX1cnluZ0-DR74  Fire Tablet, 7 Display, Wi-Fi, 8 GB - Includes...   \n",
       "1  AVqVGWLKnnc1JgDc3jF1  Fire Kids Edition Tablet, 7 Display, Wi-Fi, 16...   \n",
       "2  AVpfl8cLLJeJML43AE3S                                                NaN   \n",
       "3  AVphgVaX1cnluZ0-DR74  Fire Tablet, 7 Display, Wi-Fi, 8 GB - Includes...   \n",
       "4  AVphgVaX1cnluZ0-DR74  Fire Tablet, 7 Display, Wi-Fi, 8 GB - Includes...   \n",
       "\n",
       "                   asins   brand  \\\n",
       "0             B018Y229OU  Amazon   \n",
       "1             B018Y23MNM  Amazon   \n",
       "2  B00L9EPT8O,B01E6AO69U  Amazon   \n",
       "3             B018Y229OU  Amazon   \n",
       "4             B018Y229OU  Amazon   \n",
       "\n",
       "                                          categories  \\\n",
       "0  Fire Tablets,Tablets,Computers & Tablets,All T...   \n",
       "1  Tablets,Fire Tablets,Computers & Tablets,All T...   \n",
       "2  Stereos,Remote Controls,Amazon Echo,Audio Dock...   \n",
       "3  Fire Tablets,Tablets,Computers & Tablets,All T...   \n",
       "4  Fire Tablets,Tablets,Computers & Tablets,All T...   \n",
       "\n",
       "                                                keys manufacturer  \\\n",
       "0  firetablet7displaywifi8gbincludesspecialoffers...       Amazon   \n",
       "1  firekidseditiontablet7displaywifi16gbgreenkidp...       Amazon   \n",
       "2  echowhite/263039693056,echowhite/152558276095,...       Amazon   \n",
       "3  firetablet7displaywifi8gbincludesspecialoffers...       Amazon   \n",
       "4  firetablet7displaywifi8gbincludesspecialoffers...       Amazon   \n",
       "\n",
       "               reviews.date     reviews.dateAdded  \\\n",
       "0  2016-06-22T00:00:00.000Z  2017-05-21T02:59:32Z   \n",
       "1  2016-11-16T00:00:00.000Z  2017-06-21T07:38:05Z   \n",
       "2  2016-09-23T00:00:00.000Z                   NaN   \n",
       "3  2016-12-23T00:00:00.000Z  2017-05-21T01:24:42Z   \n",
       "4  2017-01-06T00:00:00.000Z  2017-05-21T01:38:08Z   \n",
       "\n",
       "                                    reviews.dateSeen  ... reviews.numHelpful  \\\n",
       "0  2017-04-30T00:20:00.000Z,2017-06-07T08:18:00.000Z  ...                1.0   \n",
       "1  2017-06-04T02:17:19.659Z,2017-06-03T18:41:39.881Z  ...                0.0   \n",
       "2  2017-09-28T00:00:00Z,2017-09-08T00:00:00Z,2017...  ...                0.0   \n",
       "3  2017-04-30T00:09:00.000Z,2017-06-07T08:17:00.000Z  ...                0.0   \n",
       "4  2017-04-30T00:12:00.000Z,2017-06-07T08:16:00.000Z  ...                0.0   \n",
       "\n",
       "   reviews.rating                                 reviews.sourceURLs  \\\n",
       "0             5.0  http://reviews.bestbuy.com/3545/5025800/review...   \n",
       "1             2.0  http://reviews.bestbuy.com/3545/5026300/review...   \n",
       "2             2.0  http://reviews.bestbuy.com/3545/5588528/review...   \n",
       "3             5.0  http://reviews.bestbuy.com/3545/5025800/review...   \n",
       "4             1.0  http://reviews.bestbuy.com/3545/5025800/review...   \n",
       "\n",
       "                                        reviews.text  \\\n",
       "0  This is a great tables for browsing the net, r...   \n",
       "1  Downloaded movies for my son to watch and the ...   \n",
       "2  Not sure what all the hype is about, this AI i...   \n",
       "3  This is my first tablet, and I have yet to do ...   \n",
       "4  Ordered dec 9th and got my order AFTER CHRISTM...   \n",
       "\n",
       "                               reviews.title       reviews.username  \\\n",
       "0  Great tablet. Video apps are hit or miss.                Ivancho   \n",
       "1                             Didn't like it                 Alaska   \n",
       "2                     Extreme Disappointment                  ebola   \n",
       "3               A Tablet that Meets My Needs  KhakiScoutTroopLeader   \n",
       "4                                        bad                   aimz   \n",
       "\n",
       "  review_length  sentiment                                         clean_text  \\\n",
       "0           269   positive  this is a great tables for browsing the net re...   \n",
       "1           106   negative  downloaded movies for my son to watch and the ...   \n",
       "2           174   negative  not sure what all the hype is about this ai is...   \n",
       "3           255   positive  this is my first tablet and i have yet to do m...   \n",
       "4            96   negative  ordered dec 9th and got my order after christm...   \n",
       "\n",
       "  label  \n",
       "0     2  \n",
       "1     0  \n",
       "2     0  \n",
       "3     2  \n",
       "4     0  \n",
       "\n",
       "[5 rows x 21 columns]"
      ]
     },
     "metadata": {},
     "output_type": "display_data"
    }
   ],
   "source": [
    "import pandas as pd\n",
    "\n",
    "# Load the dataset you saved earlier\n",
    "df_balanced = pd.read_csv(\"/content/cleaned_reviews.csv\")\n",
    "\n",
    "# Show shape and preview\n",
    "print(f\"✅ Data Loaded! Shape: {df_balanced.shape}\")\n",
    "display(df_balanced.head())\n"
   ]
  },
  {
   "cell_type": "markdown",
   "id": "a34535ee",
   "metadata": {},
   "source": [
    "## --- Merged Content from test_classification.ipynb ---"
   ]
  },
  {
   "cell_type": "code",
   "execution_count": null,
   "id": "eaa7cae6",
   "metadata": {
    "colab": {
     "base_uri": "https://localhost:8080/"
    },
    "executionInfo": {
     "elapsed": 2755,
     "status": "ok",
     "timestamp": 1744203054696,
     "user": {
      "displayName": "محضار",
      "userId": "15735783978429111761"
     },
     "user_tz": 420
    },
    "id": "o-5pI0SEjI_s",
    "outputId": "2f14ffc1-ab87-4624-e0a6-1288af43ce15"
   },
   "outputs": [
    {
     "name": "stdout",
     "output_type": "stream",
     "text": [
      "Columns in your CSV file: ['id', 'dateAdded', 'dateUpdated', 'name', 'asins', 'brand', 'categories', 'primaryCategories', 'imageURLs', 'keys', 'manufacturer', 'manufacturerNumber', 'reviews.date', 'reviews.dateAdded', 'reviews.dateSeen', 'reviews.doRecommend', 'reviews.id', 'reviews.numHelpful', 'reviews.rating', 'reviews.sourceURLs', 'reviews.text', 'reviews.title', 'reviews.username', 'sourceURLs']\n"
     ]
    }
   ],
   "source": [
    "import pandas as pd\n",
    "\n",
    "# Replace with your test CSV file path\n",
    "test_csv_path = \"/content/test.csv\"\n",
    "df_test = pd.read_csv(test_csv_path)\n",
    "print(\"Columns in your CSV file:\", df_test.columns.tolist())\n"
   ]
  },
  {
   "cell_type": "code",
   "execution_count": null,
   "id": "21a839e8",
   "metadata": {
    "colab": {
     "base_uri": "https://localhost:8080/"
    },
    "executionInfo": {
     "elapsed": 49187,
     "status": "ok",
     "timestamp": 1744203639759,
     "user": {
      "displayName": "محضار",
      "userId": "15735783978429111761"
     },
     "user_tz": 420
    },
    "id": "runluY7vmgh7",
    "outputId": "665e5c00-71a5-48e7-b944-6acb47313828"
   },
   "outputs": [
    {
     "name": "stdout",
     "output_type": "stream",
     "text": [
      "Columns in test CSV: ['id', 'dateAdded', 'dateUpdated', 'name', 'asins', 'brand', 'categories', 'primaryCategories', 'imageURLs', 'keys', 'manufacturer', 'manufacturerNumber', 'reviews.date', 'reviews.dateAdded', 'reviews.dateSeen', 'reviews.doRecommend', 'reviews.id', 'reviews.numHelpful', 'reviews.rating', 'reviews.sourceURLs', 'reviews.text', 'reviews.title', 'reviews.username', 'sourceURLs']\n",
      "Classification Report:\n",
      "              precision    recall  f1-score   support\n",
      "\n",
      "    negative       0.74      0.93      0.83       117\n",
      "     neutral       0.53      0.89      0.66       197\n",
      "    positive       1.00      0.96      0.98      4686\n",
      "\n",
      "    accuracy                           0.96      5000\n",
      "   macro avg       0.76      0.93      0.82      5000\n",
      "weighted avg       0.97      0.96      0.96      5000\n",
      "\n",
      "Accuracy: 0.9578\n",
      "Confusion Matrix:\n",
      "[[ 109    3    5]\n",
      " [   9  175   13]\n",
      " [  29  152 4505]]\n"
     ]
    }
   ],
   "source": [
    "import pandas as pd\n",
    "import torch\n",
    "from transformers import BertTokenizer, BertForSequenceClassification\n",
    "from sklearn.metrics import classification_report, confusion_matrix, accuracy_score\n",
    "\n",
    "# -------------------------------\n",
    "# Set paths\n",
    "# -------------------------------\n",
    "model_path = \"/content/model\"\n",
    "data_path = \"/content/test.csv\"\n",
    "\n",
    "# -------------------------------\n",
    "# Load Model and Tokenizer\n",
    "# -------------------------------\n",
    "tokenizer = BertTokenizer.from_pretrained(model_path, local_files_only=True)\n",
    "classifier_model = BertForSequenceClassification.from_pretrained(\n",
    "    model_path,\n",
    "    num_labels=3,\n",
    "    local_files_only=True\n",
    ")\n",
    "classifier_model.eval()\n",
    "\n",
    "# Set device (GPU if available, else CPU) and move the model.\n",
    "device = torch.device(\"cuda\" if torch.cuda.is_available() else \"cpu\")\n",
    "classifier_model.to(device)\n",
    "\n",
    "# -------------------------------\n",
    "# Define Prediction Function\n",
    "# -------------------------------\n",
    "def predict_sentiment(text):\n",
    "    text = str(text).lower().strip()\n",
    "    inputs = tokenizer(text,\n",
    "                       return_tensors=\"pt\",\n",
    "                       truncation=True,\n",
    "                       padding=True,\n",
    "                       max_length=128)\n",
    "    inputs = {k: v.to(device) for k, v in inputs.items()}\n",
    "    with torch.no_grad():\n",
    "        outputs = classifier_model(**inputs)\n",
    "        logits = outputs.logits\n",
    "        predicted_class = torch.argmax(logits, dim=1).item()\n",
    "    label_map = {0: \"negative\", 1: \"neutral\", 2: \"positive\"}\n",
    "    return label_map[predicted_class]\n",
    "\n",
    "# -------------------------------\n",
    "# Load Test Data\n",
    "# -------------------------------\n",
    "df_test = pd.read_csv(data_path)\n",
    "print(\"Columns in test CSV:\", df_test.columns.tolist())\n",
    "\n",
    "# The review text is in column \"reviews.text\"\n",
    "review_column = \"reviews.text\"\n",
    "\n",
    "# Since our CSV does not include a true sentiment column,\n",
    "# we will derive it from \"reviews.rating\". Adjust the mapping if necessary.\n",
    "def map_rating_to_sentiment(rating):\n",
    "    try:\n",
    "        r = float(rating)\n",
    "    except:\n",
    "        return \"neutral\"\n",
    "    if r <= 2:\n",
    "        return \"negative\"\n",
    "    elif r == 3:\n",
    "        return \"neutral\"\n",
    "    else:  # for r >= 4\n",
    "        return \"positive\"\n",
    "\n",
    "# Create a new column \"True_Sentiment\" based on \"reviews.rating\"\n",
    "if \"reviews.rating\" in df_test.columns:\n",
    "    df_test[\"True_Sentiment\"] = df_test[\"reviews.rating\"].apply(map_rating_to_sentiment)\n",
    "else:\n",
    "    raise KeyError(f\"Expected 'reviews.rating' column not found. Found columns: {df_test.columns.tolist()}\")\n",
    "\n",
    "# Verify that the review column exists.\n",
    "if review_column not in df_test.columns:\n",
    "    raise KeyError(f\"Expected review column '{review_column}' not found. Found columns: {df_test.columns.tolist()}\")\n",
    "\n",
    "# -------------------------------\n",
    "# Make Predictions\n",
    "# -------------------------------\n",
    "df_test[\"Predicted_Sentiment\"] = df_test[review_column].apply(predict_sentiment)\n",
    "\n",
    "# -------------------------------\n",
    "# Evaluate Model Performance\n",
    "# -------------------------------\n",
    "print(\"Classification Report:\")\n",
    "print(classification_report(df_test[\"True_Sentiment\"], df_test[\"Predicted_Sentiment\"]))\n",
    "\n",
    "accuracy = accuracy_score(df_test[\"True_Sentiment\"], df_test[\"Predicted_Sentiment\"])\n",
    "print(\"Accuracy:\", accuracy)\n",
    "\n",
    "print(\"Confusion Matrix:\")\n",
    "print(confusion_matrix(df_test[\"True_Sentiment\"], df_test[\"Predicted_Sentiment\"]))\n"
   ]
  },
  {
   "cell_type": "code",
   "execution_count": null,
   "id": "daf26806",
   "metadata": {
    "colab": {
     "base_uri": "https://localhost:8080/",
     "height": 633
    },
    "executionInfo": {
     "elapsed": 612,
     "status": "ok",
     "timestamp": 1744204641009,
     "user": {
      "displayName": "محضار",
      "userId": "15735783978429111761"
     },
     "user_tz": 420
    },
    "id": "6yHVQX2goWSB",
    "outputId": "f52464f1-9f24-4582-aa8e-14badb0bd6b7"
   },
   "outputs": [
    {
     "name": "stdout",
     "output_type": "stream",
     "text": [
      "Confusion Matrix:\n",
      "[[ 109    3    5]\n",
      " [   9  175   13]\n",
      " [  29  152 4505]]\n"
     ]
    },
    {
     "data": {
      "image/png": "[encoded data removed]",
      "text/plain": [
       "<Figure size 800x600 with 2 Axes>"
      ]
     },
     "metadata": {},
     "output_type": "display_data"
    }
   ],
   "source": [
    "from sklearn.metrics import confusion_matrix\n",
    "import matplotlib.pyplot as plt\n",
    "import seaborn as sns\n",
    "import matplotlib.colors as colors\n",
    "\n",
    "# Assume df_test is your DataFrame with columns \"True_Sentiment\" and \"Predicted_Sentiment\"\n",
    "# Define the order of labels (adjust if needed)\n",
    "labels = [\"negative\", \"neutral\", \"positive\"]\n",
    "\n",
    "# Compute the confusion matrix\n",
    "cm = confusion_matrix(df_test[\"True_Sentiment\"], df_test[\"Predicted_Sentiment\"], labels=labels)\n",
    "\n",
    "# Print the confusion matrix in console\n",
    "print(\"Confusion Matrix:\")\n",
    "print(cm)\n",
    "\n",
    "# Plot the confusion matrix as a heatmap with logarithmic normalization.\n",
    "plt.figure(figsize=(8,6))\n",
    "sns.heatmap(cm,\n",
    "            annot=True,\n",
    "            fmt=\"d\",\n",
    "            cmap=\"Blues\",\n",
    "            xticklabels=labels,\n",
    "            yticklabels=labels,\n",
    "            norm=colors.LogNorm(vmin=1, vmax=cm.max()),\n",
    "            cbar_kws={\"ticks\": [1, 10, 100, 1000, cm.max()]})\n",
    "plt.xlabel(\"Predicted Label\")\n",
    "plt.ylabel(\"True Label\")\n",
    "plt.title(\"Confusion Matrix (Log Normalized)\")\n",
    "plt.show()\n"
   ]
  }
 ],
 "metadata": {
  "accelerator": "GPU",
  "colab": {
   "gpuType": "T4",
   "machine_shape": "hm",
   "provenance": []
  },
  "kernelspec": {
   "display_name": "Python 3",
   "name": "python3"
  },
  "language_info": {
   "name": "python"
  },
  "widgets": {
   "application/vnd.jupyter.widget-state+json": {
    "020a09a61cfc48a186517cb1e90d45dc": {
     "model_module": "@jupyter-widgets/controls",
     "model_module_version": "1.5.0",
     "model_name": "ProgressStyleModel",
     "state": {
      "_model_module": "@jupyter-widgets/controls",
      "_model_module_version": "1.5.0",
      "_model_name": "ProgressStyleModel",
      "_view_count": null,
      "_view_module": "@jupyter-widgets/base",
      "_view_module_version": "1.2.0",
      "_view_name": "StyleView",
      "bar_color": null,
      "description_width": ""
     }
    },
    "0c91cdbaa5154077838425cacdc34350": {
     "model_module": "@jupyter-widgets/base",
     "model_module_version": "1.2.0",
     "model_name": "LayoutModel",
     "state": {
      "_model_module": "@jupyter-widgets/base",
      "_model_module_version": "1.2.0",
      "_model_name": "LayoutModel",
      "_view_count": null,
      "_view_module": "@jupyter-widgets/base",
      "_view_module_version": "1.2.0",
      "_view_name": "LayoutView",
      "align_content": null,
      "align_items": null,
      "align_self": null,
      "border": null,
      "bottom": null,
      "display": null,
      "flex": null,
      "flex_flow": null,
      "grid_area": null,
      "grid_auto_columns": null,
      "grid_auto_flow": null,
      "grid_auto_rows": null,
      "grid_column": null,
      "grid_gap": null,
      "grid_row": null,
      "grid_template_areas": null,
      "grid_template_columns": null,
      "grid_template_rows": null,
      "height": null,
      "justify_content": null,
      "justify_items": null,
      "left": null,
      "margin": null,
      "max_height": null,
      "max_width": null,
      "min_height": null,
      "min_width": null,
      "object_fit": null,
      "object_position": null,
      "order": null,
      "overflow": null,
      "overflow_x": null,
      "overflow_y": null,
      "padding": null,
      "right": null,
      "top": null,
      "visibility": null,
      "width": null
     }
    },
    "0d9ad10b56dc454db705b072f5f9d7a5": {
     "model_module": "@jupyter-widgets/base",
     "model_module_version": "1.2.0",
     "model_name": "LayoutModel",
     "state": {
      "_model_module": "@jupyter-widgets/base",
      "_model_module_version": "1.2.0",
      "_model_name": "LayoutModel",
      "_view_count": null,
      "_view_module": "@jupyter-widgets/base",
      "_view_module_version": "1.2.0",
      "_view_name": "LayoutView",
      "align_content": null,
      "align_items": null,
      "align_self": null,
      "border": null,
      "bottom": null,
      "display": null,
      "flex": null,
      "flex_flow": null,
      "grid_area": null,
      "grid_auto_columns": null,
      "grid_auto_flow": null,
      "grid_auto_rows": null,
      "grid_column": null,
      "grid_gap": null,
      "grid_row": null,
      "grid_template_areas": null,
      "grid_template_columns": null,
      "grid_template_rows": null,
      "height": null,
      "justify_content": null,
      "justify_items": null,
      "left": null,
      "margin": null,
      "max_height": null,
      "max_width": null,
      "min_height": null,
      "min_width": null,
      "object_fit": null,
      "object_position": null,
      "order": null,
      "overflow": null,
      "overflow_x": null,
      "overflow_y": null,
      "padding": null,
      "right": null,
      "top": null,
      "visibility": null,
      "width": null
     }
    },
    "10db2a1edcfe4d648255f4a606a4d039": {
     "model_module": "@jupyter-widgets/controls",
     "model_module_version": "1.5.0",
     "model_name": "FloatProgressModel",
     "state": {
      "_dom_classes": [],
      "_model_module": "@jupyter-widgets/controls",
      "_model_module_version": "1.5.0",
      "_model_name": "FloatProgressModel",
      "_view_count": null,
      "_view_module": "@jupyter-widgets/controls",
      "_view_module_version": "1.5.0",
      "_view_name": "ProgressView",
      "bar_style": "success",
      "description": "",
      "description_tooltip": null,
      "layout": "IPY_MODEL_d0d2b3bea9c4496cb0f77bacd3039e6e",
      "max": 570,
      "min": 0,
      "orientation": "horizontal",
      "style": "IPY_MODEL_53bc2cc8d102484ebf06d50d5b0bbf68",
      "value": 570
     }
    },
    "1a52868c47dc41469d50e3bcd9fbfdd5": {
     "model_module": "@jupyter-widgets/base",
     "model_module_version": "1.2.0",
     "model_name": "LayoutModel",
     "state": {
      "_model_module": "@jupyter-widgets/base",
      "_model_module_version": "1.2.0",
      "_model_name": "LayoutModel",
      "_view_count": null,
      "_view_module": "@jupyter-widgets/base",
      "_view_module_version": "1.2.0",
      "_view_name": "LayoutView",
      "align_content": null,
      "align_items": null,
      "align_self": null,
      "border": null,
      "bottom": null,
      "display": null,
      "flex": null,
      "flex_flow": null,
      "grid_area": null,
      "grid_auto_columns": null,
      "grid_auto_flow": null,
      "grid_auto_rows": null,
      "grid_column": null,
      "grid_gap": null,
      "grid_row": null,
      "grid_template_areas": null,
      "grid_template_columns": null,
      "grid_template_rows": null,
      "height": null,
      "justify_content": null,
      "justify_items": null,
      "left": null,
      "margin": null,
      "max_height": null,
      "max_width": null,
      "min_height": null,
      "min_width": null,
      "object_fit": null,
      "object_position": null,
      "order": null,
      "overflow": null,
      "overflow_x": null,
      "overflow_y": null,
      "padding": null,
      "right": null,
      "top": null,
      "visibility": null,
      "width": null
     }
    },
    "1f53c21968704f3b9cfba3760b55a61e": {
     "model_module": "@jupyter-widgets/controls",
     "model_module_version": "1.5.0",
     "model_name": "HTMLModel",
     "state": {
      "_dom_classes": [],
      "_model_module": "@jupyter-widgets/controls",
      "_model_module_version": "1.5.0",
      "_model_name": "HTMLModel",
      "_view_count": null,
      "_view_module": "@jupyter-widgets/controls",
      "_view_module_version": "1.5.0",
      "_view_name": "HTMLView",
      "description": "",
      "description_tooltip": null,
      "layout": "IPY_MODEL_f240723ea3e34e3aad0d9a62fc5d74e2",
      "placeholder": "​",
      "style": "IPY_MODEL_416264bd4ba94574832e8bb9caefe000",
      "value": "model.safetensors: 100%"
     }
    },
    "24f18d27289f408799b03d214a29c25e": {
     "model_module": "@jupyter-widgets/controls",
     "model_module_version": "1.5.0",
     "model_name": "HTMLModel",
     "state": {
      "_dom_classes": [],
      "_model_module": "@jupyter-widgets/controls",
      "_model_module_version": "1.5.0",
      "_model_name": "HTMLModel",
      "_view_count": null,
      "_view_module": "@jupyter-widgets/controls",
      "_view_module_version": "1.5.0",
      "_view_name": "HTMLView",
      "description": "",
      "description_tooltip": null,
      "layout": "IPY_MODEL_87186a57604d4d60b5597bacd2496907",
      "placeholder": "​",
      "style": "IPY_MODEL_b87431086b084f279db0e4f2843fd918",
      "value": "tokenizer.json: 100%"
     }
    },
    "2567bbe3af6f4d629e045e9cab25cbd5": {
     "model_module": "@jupyter-widgets/controls",
     "model_module_version": "1.5.0",
     "model_name": "HBoxModel",
     "state": {
      "_dom_classes": [],
      "_model_module": "@jupyter-widgets/controls",
      "_model_module_version": "1.5.0",
      "_model_name": "HBoxModel",
      "_view_count": null,
      "_view_module": "@jupyter-widgets/controls",
      "_view_module_version": "1.5.0",
      "_view_name": "HBoxView",
      "box_style": "",
      "children": [
       "IPY_MODEL_24f18d27289f408799b03d214a29c25e",
       "IPY_MODEL_6a255500b3c546f9a7deac103640c4ef",
       "IPY_MODEL_aed415772c734f89beb98c82e0bad421"
      ],
      "layout": "IPY_MODEL_f72e18523bf94d2ba99d5f1929b43744"
     }
    },
    "2b290cac6e9940ad8861473f234671be": {
     "model_module": "@jupyter-widgets/controls",
     "model_module_version": "1.5.0",
     "model_name": "DescriptionStyleModel",
     "state": {
      "_model_module": "@jupyter-widgets/controls",
      "_model_module_version": "1.5.0",
      "_model_name": "DescriptionStyleModel",
      "_view_count": null,
      "_view_module": "@jupyter-widgets/base",
      "_view_module_version": "1.2.0",
      "_view_name": "StyleView",
      "description_width": ""
     }
    },
    "2c6c64f4cd864ce4816874b4fd7a8330": {
     "model_module": "@jupyter-widgets/controls",
     "model_module_version": "1.5.0",
     "model_name": "DescriptionStyleModel",
     "state": {
      "_model_module": "@jupyter-widgets/controls",
      "_model_module_version": "1.5.0",
      "_model_name": "DescriptionStyleModel",
      "_view_count": null,
      "_view_module": "@jupyter-widgets/base",
      "_view_module_version": "1.2.0",
      "_view_name": "StyleView",
      "description_width": ""
     }
    },
    "2ed2376ed192463c91fb2a9a1f43c789": {
     "model_module": "@jupyter-widgets/controls",
     "model_module_version": "1.5.0",
     "model_name": "HTMLModel",
     "state": {
      "_dom_classes": [],
      "_model_module": "@jupyter-widgets/controls",
      "_model_module_version": "1.5.0",
      "_model_name": "HTMLModel",
      "_view_count": null,
      "_view_module": "@jupyter-widgets/controls",
      "_view_module_version": "1.5.0",
      "_view_name": "HTMLView",
      "description": "",
      "description_tooltip": null,
      "layout": "IPY_MODEL_d60519580bdd447e9f7cdd720d926c40",
      "placeholder": "​",
      "style": "IPY_MODEL_99e9fc50834b43b499f4dd66a9f06011",
      "value": " 570/570 [00:00&lt;00:00, 75.0kB/s]"
     }
    },
    "365bc26c9d8c4323afa4f30a15eab974": {
     "model_module": "@jupyter-widgets/controls",
     "model_module_version": "1.5.0",
     "model_name": "DescriptionStyleModel",
     "state": {
      "_model_module": "@jupyter-widgets/controls",
      "_model_module_version": "1.5.0",
      "_model_name": "DescriptionStyleModel",
      "_view_count": null,
      "_view_module": "@jupyter-widgets/base",
      "_view_module_version": "1.2.0",
      "_view_name": "StyleView",
      "description_width": ""
     }
    },
    "3a3f992ac1f646a9873333006f3369e8": {
     "model_module": "@jupyter-widgets/base",
     "model_module_version": "1.2.0",
     "model_name": "LayoutModel",
     "state": {
      "_model_module": "@jupyter-widgets/base",
      "_model_module_version": "1.2.0",
      "_model_name": "LayoutModel",
      "_view_count": null,
      "_view_module": "@jupyter-widgets/base",
      "_view_module_version": "1.2.0",
      "_view_name": "LayoutView",
      "align_content": null,
      "align_items": null,
      "align_self": null,
      "border": null,
      "bottom": null,
      "display": null,
      "flex": null,
      "flex_flow": null,
      "grid_area": null,
      "grid_auto_columns": null,
      "grid_auto_flow": null,
      "grid_auto_rows": null,
      "grid_column": null,
      "grid_gap": null,
      "grid_row": null,
      "grid_template_areas": null,
      "grid_template_columns": null,
      "grid_template_rows": null,
      "height": null,
      "justify_content": null,
      "justify_items": null,
      "left": null,
      "margin": null,
      "max_height": null,
      "max_width": null,
      "min_height": null,
      "min_width": null,
      "object_fit": null,
      "object_position": null,
      "order": null,
      "overflow": null,
      "overflow_x": null,
      "overflow_y": null,
      "padding": null,
      "right": null,
      "top": null,
      "visibility": null,
      "width": null
     }
    },
    "40ef6ac2099b4c0f92ac76cc8d88be52": {
     "model_module": "@jupyter-widgets/base",
     "model_module_version": "1.2.0",
     "model_name": "LayoutModel",
     "state": {
      "_model_module": "@jupyter-widgets/base",
      "_model_module_version": "1.2.0",
      "_model_name": "LayoutModel",
      "_view_count": null,
      "_view_module": "@jupyter-widgets/base",
      "_view_module_version": "1.2.0",
      "_view_name": "LayoutView",
      "align_content": null,
      "align_items": null,
      "align_self": null,
      "border": null,
      "bottom": null,
      "display": null,
      "flex": null,
      "flex_flow": null,
      "grid_area": null,
      "grid_auto_columns": null,
      "grid_auto_flow": null,
      "grid_auto_rows": null,
      "grid_column": null,
      "grid_gap": null,
      "grid_row": null,
      "grid_template_areas": null,
      "grid_template_columns": null,
      "grid_template_rows": null,
      "height": null,
      "justify_content": null,
      "justify_items": null,
      "left": null,
      "margin": null,
      "max_height": null,
      "max_width": null,
      "min_height": null,
      "min_width": null,
      "object_fit": null,
      "object_position": null,
      "order": null,
      "overflow": null,
      "overflow_x": null,
      "overflow_y": null,
      "padding": null,
      "right": null,
      "top": null,
      "visibility": null,
      "width": null
     }
    },
    "416264bd4ba94574832e8bb9caefe000": {
     "model_module": "@jupyter-widgets/controls",
     "model_module_version": "1.5.0",
     "model_name": "DescriptionStyleModel",
     "state": {
      "_model_module": "@jupyter-widgets/controls",
      "_model_module_version": "1.5.0",
      "_model_name": "DescriptionStyleModel",
      "_view_count": null,
      "_view_module": "@jupyter-widgets/base",
      "_view_module_version": "1.2.0",
      "_view_name": "StyleView",
      "description_width": ""
     }
    },
    "42797ffbd39040078d36f71e54de9c32": {
     "model_module": "@jupyter-widgets/base",
     "model_module_version": "1.2.0",
     "model_name": "LayoutModel",
     "state": {
      "_model_module": "@jupyter-widgets/base",
      "_model_module_version": "1.2.0",
      "_model_name": "LayoutModel",
      "_view_count": null,
      "_view_module": "@jupyter-widgets/base",
      "_view_module_version": "1.2.0",
      "_view_name": "LayoutView",
      "align_content": null,
      "align_items": null,
      "align_self": null,
      "border": null,
      "bottom": null,
      "display": null,
      "flex": null,
      "flex_flow": null,
      "grid_area": null,
      "grid_auto_columns": null,
      "grid_auto_flow": null,
      "grid_auto_rows": null,
      "grid_column": null,
      "grid_gap": null,
      "grid_row": null,
      "grid_template_areas": null,
      "grid_template_columns": null,
      "grid_template_rows": null,
      "height": null,
      "justify_content": null,
      "justify_items": null,
      "left": null,
      "margin": null,
      "max_height": null,
      "max_width": null,
      "min_height": null,
      "min_width": null,
      "object_fit": null,
      "object_position": null,
      "order": null,
      "overflow": null,
      "overflow_x": null,
      "overflow_y": null,
      "padding": null,
      "right": null,
      "top": null,
      "visibility": null,
      "width": null
     }
    },
    "43d8c13638844b579a276ca877d216a1": {
     "model_module": "@jupyter-widgets/controls",
     "model_module_version": "1.5.0",
     "model_name": "ProgressStyleModel",
     "state": {
      "_model_module": "@jupyter-widgets/controls",
      "_model_module_version": "1.5.0",
      "_model_name": "ProgressStyleModel",
      "_view_count": null,
      "_view_module": "@jupyter-widgets/base",
      "_view_module_version": "1.2.0",
      "_view_name": "StyleView",
      "bar_color": null,
      "description_width": ""
     }
    },
    "46b66e21be1348cca282a3141624ae4d": {
     "model_module": "@jupyter-widgets/controls",
     "model_module_version": "1.5.0",
     "model_name": "FloatProgressModel",
     "state": {
      "_dom_classes": [],
      "_model_module": "@jupyter-widgets/controls",
      "_model_module_version": "1.5.0",
      "_model_name": "FloatProgressModel",
      "_view_count": null,
      "_view_module": "@jupyter-widgets/controls",
      "_view_module_version": "1.5.0",
      "_view_name": "ProgressView",
      "bar_style": "success",
      "description": "",
      "description_tooltip": null,
      "layout": "IPY_MODEL_40ef6ac2099b4c0f92ac76cc8d88be52",
      "max": 48,
      "min": 0,
      "orientation": "horizontal",
      "style": "IPY_MODEL_8e0052ba309c4a1ea0ced6a5f2724407",
      "value": 48
     }
    },
    "4716a049bfd34016b8c39c9f100301aa": {
     "model_module": "@jupyter-widgets/base",
     "model_module_version": "1.2.0",
     "model_name": "LayoutModel",
     "state": {
      "_model_module": "@jupyter-widgets/base",
      "_model_module_version": "1.2.0",
      "_model_name": "LayoutModel",
      "_view_count": null,
      "_view_module": "@jupyter-widgets/base",
      "_view_module_version": "1.2.0",
      "_view_name": "LayoutView",
      "align_content": null,
      "align_items": null,
      "align_self": null,
      "border": null,
      "bottom": null,
      "display": null,
      "flex": null,
      "flex_flow": null,
      "grid_area": null,
      "grid_auto_columns": null,
      "grid_auto_flow": null,
      "grid_auto_rows": null,
      "grid_column": null,
      "grid_gap": null,
      "grid_row": null,
      "grid_template_areas": null,
      "grid_template_columns": null,
      "grid_template_rows": null,
      "height": null,
      "justify_content": null,
      "justify_items": null,
      "left": null,
      "margin": null,
      "max_height": null,
      "max_width": null,
      "min_height": null,
      "min_width": null,
      "object_fit": null,
      "object_position": null,
      "order": null,
      "overflow": null,
      "overflow_x": null,
      "overflow_y": null,
      "padding": null,
      "right": null,
      "top": null,
      "visibility": null,
      "width": null
     }
    },
    "47c974b59554496da04f78bc623cc98d": {
     "model_module": "@jupyter-widgets/base",
     "model_module_version": "1.2.0",
     "model_name": "LayoutModel",
     "state": {
      "_model_module": "@jupyter-widgets/base",
      "_model_module_version": "1.2.0",
      "_model_name": "LayoutModel",
      "_view_count": null,
      "_view_module": "@jupyter-widgets/base",
      "_view_module_version": "1.2.0",
      "_view_name": "LayoutView",
      "align_content": null,
      "align_items": null,
      "align_self": null,
      "border": null,
      "bottom": null,
      "display": null,
      "flex": null,
      "flex_flow": null,
      "grid_area": null,
      "grid_auto_columns": null,
      "grid_auto_flow": null,
      "grid_auto_rows": null,
      "grid_column": null,
      "grid_gap": null,
      "grid_row": null,
      "grid_template_areas": null,
      "grid_template_columns": null,
      "grid_template_rows": null,
      "height": null,
      "justify_content": null,
      "justify_items": null,
      "left": null,
      "margin": null,
      "max_height": null,
      "max_width": null,
      "min_height": null,
      "min_width": null,
      "object_fit": null,
      "object_position": null,
      "order": null,
      "overflow": null,
      "overflow_x": null,
      "overflow_y": null,
      "padding": null,
      "right": null,
      "top": null,
      "visibility": null,
      "width": null
     }
    },
    "4982ac66d2ec45cc91c94609c2cc22f8": {
     "model_module": "@jupyter-widgets/base",
     "model_module_version": "1.2.0",
     "model_name": "LayoutModel",
     "state": {
      "_model_module": "@jupyter-widgets/base",
      "_model_module_version": "1.2.0",
      "_model_name": "LayoutModel",
      "_view_count": null,
      "_view_module": "@jupyter-widgets/base",
      "_view_module_version": "1.2.0",
      "_view_name": "LayoutView",
      "align_content": null,
      "align_items": null,
      "align_self": null,
      "border": null,
      "bottom": null,
      "display": null,
      "flex": null,
      "flex_flow": null,
      "grid_area": null,
      "grid_auto_columns": null,
      "grid_auto_flow": null,
      "grid_auto_rows": null,
      "grid_column": null,
      "grid_gap": null,
      "grid_row": null,
      "grid_template_areas": null,
      "grid_template_columns": null,
      "grid_template_rows": null,
      "height": null,
      "justify_content": null,
      "justify_items": null,
      "left": null,
      "margin": null,
      "max_height": null,
      "max_width": null,
      "min_height": null,
      "min_width": null,
      "object_fit": null,
      "object_position": null,
      "order": null,
      "overflow": null,
      "overflow_x": null,
      "overflow_y": null,
      "padding": null,
      "right": null,
      "top": null,
      "visibility": null,
      "width": null
     }
    },
    "4b9928ef86124f52a674c4542bcf6b92": {
     "model_module": "@jupyter-widgets/controls",
     "model_module_version": "1.5.0",
     "model_name": "HTMLModel",
     "state": {
      "_dom_classes": [],
      "_model_module": "@jupyter-widgets/controls",
      "_model_module_version": "1.5.0",
      "_model_name": "HTMLModel",
      "_view_count": null,
      "_view_module": "@jupyter-widgets/controls",
      "_view_module_version": "1.5.0",
      "_view_name": "HTMLView",
      "description": "",
      "description_tooltip": null,
      "layout": "IPY_MODEL_bb6325182b9745299481a61aa0bb10fc",
      "placeholder": "​",
      "style": "IPY_MODEL_654287ce31354563b078a87626385f11",
      "value": "tokenizer_config.json: 100%"
     }
    },
    "53bc2cc8d102484ebf06d50d5b0bbf68": {
     "model_module": "@jupyter-widgets/controls",
     "model_module_version": "1.5.0",
     "model_name": "ProgressStyleModel",
     "state": {
      "_model_module": "@jupyter-widgets/controls",
      "_model_module_version": "1.5.0",
      "_model_name": "ProgressStyleModel",
      "_view_count": null,
      "_view_module": "@jupyter-widgets/base",
      "_view_module_version": "1.2.0",
      "_view_name": "StyleView",
      "bar_color": null,
      "description_width": ""
     }
    },
    "56c2c40144e04e89872f24b7e85e0421": {
     "model_module": "@jupyter-widgets/controls",
     "model_module_version": "1.5.0",
     "model_name": "ProgressStyleModel",
     "state": {
      "_model_module": "@jupyter-widgets/controls",
      "_model_module_version": "1.5.0",
      "_model_name": "ProgressStyleModel",
      "_view_count": null,
      "_view_module": "@jupyter-widgets/base",
      "_view_module_version": "1.2.0",
      "_view_name": "StyleView",
      "bar_color": null,
      "description_width": ""
     }
    },
    "577a11ffe0ba42ebadbfcd7e09bf0a2c": {
     "model_module": "@jupyter-widgets/controls",
     "model_module_version": "1.5.0",
     "model_name": "HTMLModel",
     "state": {
      "_dom_classes": [],
      "_model_module": "@jupyter-widgets/controls",
      "_model_module_version": "1.5.0",
      "_model_name": "HTMLModel",
      "_view_count": null,
      "_view_module": "@jupyter-widgets/controls",
      "_view_module_version": "1.5.0",
      "_view_name": "HTMLView",
      "description": "",
      "description_tooltip": null,
      "layout": "IPY_MODEL_0d9ad10b56dc454db705b072f5f9d7a5",
      "placeholder": "​",
      "style": "IPY_MODEL_2c6c64f4cd864ce4816874b4fd7a8330",
      "value": "vocab.txt: 100%"
     }
    },
    "654287ce31354563b078a87626385f11": {
     "model_module": "@jupyter-widgets/controls",
     "model_module_version": "1.5.0",
     "model_name": "DescriptionStyleModel",
     "state": {
      "_model_module": "@jupyter-widgets/controls",
      "_model_module_version": "1.5.0",
      "_model_name": "DescriptionStyleModel",
      "_view_count": null,
      "_view_module": "@jupyter-widgets/base",
      "_view_module_version": "1.2.0",
      "_view_name": "StyleView",
      "description_width": ""
     }
    },
    "6a255500b3c546f9a7deac103640c4ef": {
     "model_module": "@jupyter-widgets/controls",
     "model_module_version": "1.5.0",
     "model_name": "FloatProgressModel",
     "state": {
      "_dom_classes": [],
      "_model_module": "@jupyter-widgets/controls",
      "_model_module_version": "1.5.0",
      "_model_name": "FloatProgressModel",
      "_view_count": null,
      "_view_module": "@jupyter-widgets/controls",
      "_view_module_version": "1.5.0",
      "_view_name": "ProgressView",
      "bar_style": "success",
      "description": "",
      "description_tooltip": null,
      "layout": "IPY_MODEL_a2f0acef07624e869719cd28b32da0f5",
      "max": 466062,
      "min": 0,
      "orientation": "horizontal",
      "style": "IPY_MODEL_43d8c13638844b579a276ca877d216a1",
      "value": 466062
     }
    },
    "70bff893915f48deb096371ef0870c93": {
     "model_module": "@jupyter-widgets/controls",
     "model_module_version": "1.5.0",
     "model_name": "FloatProgressModel",
     "state": {
      "_dom_classes": [],
      "_model_module": "@jupyter-widgets/controls",
      "_model_module_version": "1.5.0",
      "_model_name": "FloatProgressModel",
      "_view_count": null,
      "_view_module": "@jupyter-widgets/controls",
      "_view_module_version": "1.5.0",
      "_view_name": "ProgressView",
      "bar_style": "success",
      "description": "",
      "description_tooltip": null,
      "layout": "IPY_MODEL_c6740decf1b7446c9505721b7d43aabe",
      "max": 440449768,
      "min": 0,
      "orientation": "horizontal",
      "style": "IPY_MODEL_020a09a61cfc48a186517cb1e90d45dc",
      "value": 440449768
     }
    },
    "773a0348a13d43f5bc0761b4c3c8a8b5": {
     "model_module": "@jupyter-widgets/base",
     "model_module_version": "1.2.0",
     "model_name": "LayoutModel",
     "state": {
      "_model_module": "@jupyter-widgets/base",
      "_model_module_version": "1.2.0",
      "_model_name": "LayoutModel",
      "_view_count": null,
      "_view_module": "@jupyter-widgets/base",
      "_view_module_version": "1.2.0",
      "_view_name": "LayoutView",
      "align_content": null,
      "align_items": null,
      "align_self": null,
      "border": null,
      "bottom": null,
      "display": null,
      "flex": null,
      "flex_flow": null,
      "grid_area": null,
      "grid_auto_columns": null,
      "grid_auto_flow": null,
      "grid_auto_rows": null,
      "grid_column": null,
      "grid_gap": null,
      "grid_row": null,
      "grid_template_areas": null,
      "grid_template_columns": null,
      "grid_template_rows": null,
      "height": null,
      "justify_content": null,
      "justify_items": null,
      "left": null,
      "margin": null,
      "max_height": null,
      "max_width": null,
      "min_height": null,
      "min_width": null,
      "object_fit": null,
      "object_position": null,
      "order": null,
      "overflow": null,
      "overflow_x": null,
      "overflow_y": null,
      "padding": null,
      "right": null,
      "top": null,
      "visibility": null,
      "width": null
     }
    },
    "87186a57604d4d60b5597bacd2496907": {
     "model_module": "@jupyter-widgets/base",
     "model_module_version": "1.2.0",
     "model_name": "LayoutModel",
     "state": {
      "_model_module": "@jupyter-widgets/base",
      "_model_module_version": "1.2.0",
      "_model_name": "LayoutModel",
      "_view_count": null,
      "_view_module": "@jupyter-widgets/base",
      "_view_module_version": "1.2.0",
      "_view_name": "LayoutView",
      "align_content": null,
      "align_items": null,
      "align_self": null,
      "border": null,
      "bottom": null,
      "display": null,
      "flex": null,
      "flex_flow": null,
      "grid_area": null,
      "grid_auto_columns": null,
      "grid_auto_flow": null,
      "grid_auto_rows": null,
      "grid_column": null,
      "grid_gap": null,
      "grid_row": null,
      "grid_template_areas": null,
      "grid_template_columns": null,
      "grid_template_rows": null,
      "height": null,
      "justify_content": null,
      "justify_items": null,
      "left": null,
      "margin": null,
      "max_height": null,
      "max_width": null,
      "min_height": null,
      "min_width": null,
      "object_fit": null,
      "object_position": null,
      "order": null,
      "overflow": null,
      "overflow_x": null,
      "overflow_y": null,
      "padding": null,
      "right": null,
      "top": null,
      "visibility": null,
      "width": null
     }
    },
    "8a7ce068c1554177bdac24d262238a27": {
     "model_module": "@jupyter-widgets/controls",
     "model_module_version": "1.5.0",
     "model_name": "HTMLModel",
     "state": {
      "_dom_classes": [],
      "_model_module": "@jupyter-widgets/controls",
      "_model_module_version": "1.5.0",
      "_model_name": "HTMLModel",
      "_view_count": null,
      "_view_module": "@jupyter-widgets/controls",
      "_view_module_version": "1.5.0",
      "_view_name": "HTMLView",
      "description": "",
      "description_tooltip": null,
      "layout": "IPY_MODEL_0c91cdbaa5154077838425cacdc34350",
      "placeholder": "​",
      "style": "IPY_MODEL_ad35c1c8f8ea497d94c55fc537f23c6b",
      "value": " 48.0/48.0 [00:00&lt;00:00, 5.69kB/s]"
     }
    },
    "8e0052ba309c4a1ea0ced6a5f2724407": {
     "model_module": "@jupyter-widgets/controls",
     "model_module_version": "1.5.0",
     "model_name": "ProgressStyleModel",
     "state": {
      "_model_module": "@jupyter-widgets/controls",
      "_model_module_version": "1.5.0",
      "_model_name": "ProgressStyleModel",
      "_view_count": null,
      "_view_module": "@jupyter-widgets/base",
      "_view_module_version": "1.2.0",
      "_view_name": "StyleView",
      "bar_color": null,
      "description_width": ""
     }
    },
    "99e9fc50834b43b499f4dd66a9f06011": {
     "model_module": "@jupyter-widgets/controls",
     "model_module_version": "1.5.0",
     "model_name": "DescriptionStyleModel",
     "state": {
      "_model_module": "@jupyter-widgets/controls",
      "_model_module_version": "1.5.0",
      "_model_name": "DescriptionStyleModel",
      "_view_count": null,
      "_view_module": "@jupyter-widgets/base",
      "_view_module_version": "1.2.0",
      "_view_name": "StyleView",
      "description_width": ""
     }
    },
    "9d70844fc17d477fbc0022676420954a": {
     "model_module": "@jupyter-widgets/controls",
     "model_module_version": "1.5.0",
     "model_name": "HBoxModel",
     "state": {
      "_dom_classes": [],
      "_model_module": "@jupyter-widgets/controls",
      "_model_module_version": "1.5.0",
      "_model_name": "HBoxModel",
      "_view_count": null,
      "_view_module": "@jupyter-widgets/controls",
      "_view_module_version": "1.5.0",
      "_view_name": "HBoxView",
      "box_style": "",
      "children": [
       "IPY_MODEL_4b9928ef86124f52a674c4542bcf6b92",
       "IPY_MODEL_46b66e21be1348cca282a3141624ae4d",
       "IPY_MODEL_8a7ce068c1554177bdac24d262238a27"
      ],
      "layout": "IPY_MODEL_1a52868c47dc41469d50e3bcd9fbfdd5"
     }
    },
    "9f18115a90f044eebb6bcaa723822ab3": {
     "model_module": "@jupyter-widgets/controls",
     "model_module_version": "1.5.0",
     "model_name": "FloatProgressModel",
     "state": {
      "_dom_classes": [],
      "_model_module": "@jupyter-widgets/controls",
      "_model_module_version": "1.5.0",
      "_model_name": "FloatProgressModel",
      "_view_count": null,
      "_view_module": "@jupyter-widgets/controls",
      "_view_module_version": "1.5.0",
      "_view_name": "ProgressView",
      "bar_style": "success",
      "description": "",
      "description_tooltip": null,
      "layout": "IPY_MODEL_47c974b59554496da04f78bc623cc98d",
      "max": 231508,
      "min": 0,
      "orientation": "horizontal",
      "style": "IPY_MODEL_56c2c40144e04e89872f24b7e85e0421",
      "value": 231508
     }
    },
    "a20f23309c0c4c578e70fbd5680c10f7": {
     "model_module": "@jupyter-widgets/base",
     "model_module_version": "1.2.0",
     "model_name": "LayoutModel",
     "state": {
      "_model_module": "@jupyter-widgets/base",
      "_model_module_version": "1.2.0",
      "_model_name": "LayoutModel",
      "_view_count": null,
      "_view_module": "@jupyter-widgets/base",
      "_view_module_version": "1.2.0",
      "_view_name": "LayoutView",
      "align_content": null,
      "align_items": null,
      "align_self": null,
      "border": null,
      "bottom": null,
      "display": null,
      "flex": null,
      "flex_flow": null,
      "grid_area": null,
      "grid_auto_columns": null,
      "grid_auto_flow": null,
      "grid_auto_rows": null,
      "grid_column": null,
      "grid_gap": null,
      "grid_row": null,
      "grid_template_areas": null,
      "grid_template_columns": null,
      "grid_template_rows": null,
      "height": null,
      "justify_content": null,
      "justify_items": null,
      "left": null,
      "margin": null,
      "max_height": null,
      "max_width": null,
      "min_height": null,
      "min_width": null,
      "object_fit": null,
      "object_position": null,
      "order": null,
      "overflow": null,
      "overflow_x": null,
      "overflow_y": null,
      "padding": null,
      "right": null,
      "top": null,
      "visibility": null,
      "width": null
     }
    },
    "a2f0acef07624e869719cd28b32da0f5": {
     "model_module": "@jupyter-widgets/base",
     "model_module_version": "1.2.0",
     "model_name": "LayoutModel",
     "state": {
      "_model_module": "@jupyter-widgets/base",
      "_model_module_version": "1.2.0",
      "_model_name": "LayoutModel",
      "_view_count": null,
      "_view_module": "@jupyter-widgets/base",
      "_view_module_version": "1.2.0",
      "_view_name": "LayoutView",
      "align_content": null,
      "align_items": null,
      "align_self": null,
      "border": null,
      "bottom": null,
      "display": null,
      "flex": null,
      "flex_flow": null,
      "grid_area": null,
      "grid_auto_columns": null,
      "grid_auto_flow": null,
      "grid_auto_rows": null,
      "grid_column": null,
      "grid_gap": null,
      "grid_row": null,
      "grid_template_areas": null,
      "grid_template_columns": null,
      "grid_template_rows": null,
      "height": null,
      "justify_content": null,
      "justify_items": null,
      "left": null,
      "margin": null,
      "max_height": null,
      "max_width": null,
      "min_height": null,
      "min_width": null,
      "object_fit": null,
      "object_position": null,
      "order": null,
      "overflow": null,
      "overflow_x": null,
      "overflow_y": null,
      "padding": null,
      "right": null,
      "top": null,
      "visibility": null,
      "width": null
     }
    },
    "ad35c1c8f8ea497d94c55fc537f23c6b": {
     "model_module": "@jupyter-widgets/controls",
     "model_module_version": "1.5.0",
     "model_name": "DescriptionStyleModel",
     "state": {
      "_model_module": "@jupyter-widgets/controls",
      "_model_module_version": "1.5.0",
      "_model_name": "DescriptionStyleModel",
      "_view_count": null,
      "_view_module": "@jupyter-widgets/base",
      "_view_module_version": "1.2.0",
      "_view_name": "StyleView",
      "description_width": ""
     }
    },
    "aed415772c734f89beb98c82e0bad421": {
     "model_module": "@jupyter-widgets/controls",
     "model_module_version": "1.5.0",
     "model_name": "HTMLModel",
     "state": {
      "_dom_classes": [],
      "_model_module": "@jupyter-widgets/controls",
      "_model_module_version": "1.5.0",
      "_model_name": "HTMLModel",
      "_view_count": null,
      "_view_module": "@jupyter-widgets/controls",
      "_view_module_version": "1.5.0",
      "_view_name": "HTMLView",
      "description": "",
      "description_tooltip": null,
      "layout": "IPY_MODEL_773a0348a13d43f5bc0761b4c3c8a8b5",
      "placeholder": "​",
      "style": "IPY_MODEL_d1ceb4a34e594c948fc9a66c56aac063",
      "value": " 466k/466k [00:00&lt;00:00, 1.05MB/s]"
     }
    },
    "b72c9c8c68814d89bbd2833c822dab9a": {
     "model_module": "@jupyter-widgets/controls",
     "model_module_version": "1.5.0",
     "model_name": "HBoxModel",
     "state": {
      "_dom_classes": [],
      "_model_module": "@jupyter-widgets/controls",
      "_model_module_version": "1.5.0",
      "_model_name": "HBoxModel",
      "_view_count": null,
      "_view_module": "@jupyter-widgets/controls",
      "_view_module_version": "1.5.0",
      "_view_name": "HBoxView",
      "box_style": "",
      "children": [
       "IPY_MODEL_dc78245643c94bacaa693a25fc471c3f",
       "IPY_MODEL_10db2a1edcfe4d648255f4a606a4d039",
       "IPY_MODEL_2ed2376ed192463c91fb2a9a1f43c789"
      ],
      "layout": "IPY_MODEL_f9b3d79b310c42dfae812d3e5348a19a"
     }
    },
    "b87431086b084f279db0e4f2843fd918": {
     "model_module": "@jupyter-widgets/controls",
     "model_module_version": "1.5.0",
     "model_name": "DescriptionStyleModel",
     "state": {
      "_model_module": "@jupyter-widgets/controls",
      "_model_module_version": "1.5.0",
      "_model_name": "DescriptionStyleModel",
      "_view_count": null,
      "_view_module": "@jupyter-widgets/base",
      "_view_module_version": "1.2.0",
      "_view_name": "StyleView",
      "description_width": ""
     }
    },
    "bb6325182b9745299481a61aa0bb10fc": {
     "model_module": "@jupyter-widgets/base",
     "model_module_version": "1.2.0",
     "model_name": "LayoutModel",
     "state": {
      "_model_module": "@jupyter-widgets/base",
      "_model_module_version": "1.2.0",
      "_model_name": "LayoutModel",
      "_view_count": null,
      "_view_module": "@jupyter-widgets/base",
      "_view_module_version": "1.2.0",
      "_view_name": "LayoutView",
      "align_content": null,
      "align_items": null,
      "align_self": null,
      "border": null,
      "bottom": null,
      "display": null,
      "flex": null,
      "flex_flow": null,
      "grid_area": null,
      "grid_auto_columns": null,
      "grid_auto_flow": null,
      "grid_auto_rows": null,
      "grid_column": null,
      "grid_gap": null,
      "grid_row": null,
      "grid_template_areas": null,
      "grid_template_columns": null,
      "grid_template_rows": null,
      "height": null,
      "justify_content": null,
      "justify_items": null,
      "left": null,
      "margin": null,
      "max_height": null,
      "max_width": null,
      "min_height": null,
      "min_width": null,
      "object_fit": null,
      "object_position": null,
      "order": null,
      "overflow": null,
      "overflow_x": null,
      "overflow_y": null,
      "padding": null,
      "right": null,
      "top": null,
      "visibility": null,
      "width": null
     }
    },
    "c448c189dfd8422a843a509426b03ecd": {
     "model_module": "@jupyter-widgets/controls",
     "model_module_version": "1.5.0",
     "model_name": "HBoxModel",
     "state": {
      "_dom_classes": [],
      "_model_module": "@jupyter-widgets/controls",
      "_model_module_version": "1.5.0",
      "_model_name": "HBoxModel",
      "_view_count": null,
      "_view_module": "@jupyter-widgets/controls",
      "_view_module_version": "1.5.0",
      "_view_name": "HBoxView",
      "box_style": "",
      "children": [
       "IPY_MODEL_577a11ffe0ba42ebadbfcd7e09bf0a2c",
       "IPY_MODEL_9f18115a90f044eebb6bcaa723822ab3",
       "IPY_MODEL_de64c4e5db4144c398078a772d1f3412"
      ],
      "layout": "IPY_MODEL_42797ffbd39040078d36f71e54de9c32"
     }
    },
    "c6740decf1b7446c9505721b7d43aabe": {
     "model_module": "@jupyter-widgets/base",
     "model_module_version": "1.2.0",
     "model_name": "LayoutModel",
     "state": {
      "_model_module": "@jupyter-widgets/base",
      "_model_module_version": "1.2.0",
      "_model_name": "LayoutModel",
      "_view_count": null,
      "_view_module": "@jupyter-widgets/base",
      "_view_module_version": "1.2.0",
      "_view_name": "LayoutView",
      "align_content": null,
      "align_items": null,
      "align_self": null,
      "border": null,
      "bottom": null,
      "display": null,
      "flex": null,
      "flex_flow": null,
      "grid_area": null,
      "grid_auto_columns": null,
      "grid_auto_flow": null,
      "grid_auto_rows": null,
      "grid_column": null,
      "grid_gap": null,
      "grid_row": null,
      "grid_template_areas": null,
      "grid_template_columns": null,
      "grid_template_rows": null,
      "height": null,
      "justify_content": null,
      "justify_items": null,
      "left": null,
      "margin": null,
      "max_height": null,
      "max_width": null,
      "min_height": null,
      "min_width": null,
      "object_fit": null,
      "object_position": null,
      "order": null,
      "overflow": null,
      "overflow_x": null,
      "overflow_y": null,
      "padding": null,
      "right": null,
      "top": null,
      "visibility": null,
      "width": null
     }
    },
    "c79bcbfffd5c4b54be4849bbee2f0be4": {
     "model_module": "@jupyter-widgets/controls",
     "model_module_version": "1.5.0",
     "model_name": "DescriptionStyleModel",
     "state": {
      "_model_module": "@jupyter-widgets/controls",
      "_model_module_version": "1.5.0",
      "_model_name": "DescriptionStyleModel",
      "_view_count": null,
      "_view_module": "@jupyter-widgets/base",
      "_view_module_version": "1.2.0",
      "_view_name": "StyleView",
      "description_width": ""
     }
    },
    "d0d2b3bea9c4496cb0f77bacd3039e6e": {
     "model_module": "@jupyter-widgets/base",
     "model_module_version": "1.2.0",
     "model_name": "LayoutModel",
     "state": {
      "_model_module": "@jupyter-widgets/base",
      "_model_module_version": "1.2.0",
      "_model_name": "LayoutModel",
      "_view_count": null,
      "_view_module": "@jupyter-widgets/base",
      "_view_module_version": "1.2.0",
      "_view_name": "LayoutView",
      "align_content": null,
      "align_items": null,
      "align_self": null,
      "border": null,
      "bottom": null,
      "display": null,
      "flex": null,
      "flex_flow": null,
      "grid_area": null,
      "grid_auto_columns": null,
      "grid_auto_flow": null,
      "grid_auto_rows": null,
      "grid_column": null,
      "grid_gap": null,
      "grid_row": null,
      "grid_template_areas": null,
      "grid_template_columns": null,
      "grid_template_rows": null,
      "height": null,
      "justify_content": null,
      "justify_items": null,
      "left": null,
      "margin": null,
      "max_height": null,
      "max_width": null,
      "min_height": null,
      "min_width": null,
      "object_fit": null,
      "object_position": null,
      "order": null,
      "overflow": null,
      "overflow_x": null,
      "overflow_y": null,
      "padding": null,
      "right": null,
      "top": null,
      "visibility": null,
      "width": null
     }
    },
    "d1ceb4a34e594c948fc9a66c56aac063": {
     "model_module": "@jupyter-widgets/controls",
     "model_module_version": "1.5.0",
     "model_name": "DescriptionStyleModel",
     "state": {
      "_model_module": "@jupyter-widgets/controls",
      "_model_module_version": "1.5.0",
      "_model_name": "DescriptionStyleModel",
      "_view_count": null,
      "_view_module": "@jupyter-widgets/base",
      "_view_module_version": "1.2.0",
      "_view_name": "StyleView",
      "description_width": ""
     }
    },
    "d60519580bdd447e9f7cdd720d926c40": {
     "model_module": "@jupyter-widgets/base",
     "model_module_version": "1.2.0",
     "model_name": "LayoutModel",
     "state": {
      "_model_module": "@jupyter-widgets/base",
      "_model_module_version": "1.2.0",
      "_model_name": "LayoutModel",
      "_view_count": null,
      "_view_module": "@jupyter-widgets/base",
      "_view_module_version": "1.2.0",
      "_view_name": "LayoutView",
      "align_content": null,
      "align_items": null,
      "align_self": null,
      "border": null,
      "bottom": null,
      "display": null,
      "flex": null,
      "flex_flow": null,
      "grid_area": null,
      "grid_auto_columns": null,
      "grid_auto_flow": null,
      "grid_auto_rows": null,
      "grid_column": null,
      "grid_gap": null,
      "grid_row": null,
      "grid_template_areas": null,
      "grid_template_columns": null,
      "grid_template_rows": null,
      "height": null,
      "justify_content": null,
      "justify_items": null,
      "left": null,
      "margin": null,
      "max_height": null,
      "max_width": null,
      "min_height": null,
      "min_width": null,
      "object_fit": null,
      "object_position": null,
      "order": null,
      "overflow": null,
      "overflow_x": null,
      "overflow_y": null,
      "padding": null,
      "right": null,
      "top": null,
      "visibility": null,
      "width": null
     }
    },
    "d92223e424b5447386f938e0eec2c61a": {
     "model_module": "@jupyter-widgets/controls",
     "model_module_version": "1.5.0",
     "model_name": "HTMLModel",
     "state": {
      "_dom_classes": [],
      "_model_module": "@jupyter-widgets/controls",
      "_model_module_version": "1.5.0",
      "_model_name": "HTMLModel",
      "_view_count": null,
      "_view_module": "@jupyter-widgets/controls",
      "_view_module_version": "1.5.0",
      "_view_name": "HTMLView",
      "description": "",
      "description_tooltip": null,
      "layout": "IPY_MODEL_a20f23309c0c4c578e70fbd5680c10f7",
      "placeholder": "​",
      "style": "IPY_MODEL_c79bcbfffd5c4b54be4849bbee2f0be4",
      "value": " 440M/440M [00:02&lt;00:00, 199MB/s]"
     }
    },
    "dc78245643c94bacaa693a25fc471c3f": {
     "model_module": "@jupyter-widgets/controls",
     "model_module_version": "1.5.0",
     "model_name": "HTMLModel",
     "state": {
      "_dom_classes": [],
      "_model_module": "@jupyter-widgets/controls",
      "_model_module_version": "1.5.0",
      "_model_name": "HTMLModel",
      "_view_count": null,
      "_view_module": "@jupyter-widgets/controls",
      "_view_module_version": "1.5.0",
      "_view_name": "HTMLView",
      "description": "",
      "description_tooltip": null,
      "layout": "IPY_MODEL_4716a049bfd34016b8c39c9f100301aa",
      "placeholder": "​",
      "style": "IPY_MODEL_2b290cac6e9940ad8861473f234671be",
      "value": "config.json: 100%"
     }
    },
    "de64c4e5db4144c398078a772d1f3412": {
     "model_module": "@jupyter-widgets/controls",
     "model_module_version": "1.5.0",
     "model_name": "HTMLModel",
     "state": {
      "_dom_classes": [],
      "_model_module": "@jupyter-widgets/controls",
      "_model_module_version": "1.5.0",
      "_model_name": "HTMLModel",
      "_view_count": null,
      "_view_module": "@jupyter-widgets/controls",
      "_view_module_version": "1.5.0",
      "_view_name": "HTMLView",
      "description": "",
      "description_tooltip": null,
      "layout": "IPY_MODEL_4982ac66d2ec45cc91c94609c2cc22f8",
      "placeholder": "​",
      "style": "IPY_MODEL_365bc26c9d8c4323afa4f30a15eab974",
      "value": " 232k/232k [00:00&lt;00:00, 16.6MB/s]"
     }
    },
    "e3e55887b3574fbd9b61f5393a354483": {
     "model_module": "@jupyter-widgets/controls",
     "model_module_version": "1.5.0",
     "model_name": "HBoxModel",
     "state": {
      "_dom_classes": [],
      "_model_module": "@jupyter-widgets/controls",
      "_model_module_version": "1.5.0",
      "_model_name": "HBoxModel",
      "_view_count": null,
      "_view_module": "@jupyter-widgets/controls",
      "_view_module_version": "1.5.0",
      "_view_name": "HBoxView",
      "box_style": "",
      "children": [
       "IPY_MODEL_1f53c21968704f3b9cfba3760b55a61e",
       "IPY_MODEL_70bff893915f48deb096371ef0870c93",
       "IPY_MODEL_d92223e424b5447386f938e0eec2c61a"
      ],
      "layout": "IPY_MODEL_3a3f992ac1f646a9873333006f3369e8"
     }
    },
    "f240723ea3e34e3aad0d9a62fc5d74e2": {
     "model_module": "@jupyter-widgets/base",
     "model_module_version": "1.2.0",
     "model_name": "LayoutModel",
     "state": {
      "_model_module": "@jupyter-widgets/base",
      "_model_module_version": "1.2.0",
      "_model_name": "LayoutModel",
      "_view_count": null,
      "_view_module": "@jupyter-widgets/base",
      "_view_module_version": "1.2.0",
      "_view_name": "LayoutView",
      "align_content": null,
      "align_items": null,
      "align_self": null,
      "border": null,
      "bottom": null,
      "display": null,
      "flex": null,
      "flex_flow": null,
      "grid_area": null,
      "grid_auto_columns": null,
      "grid_auto_flow": null,
      "grid_auto_rows": null,
      "grid_column": null,
      "grid_gap": null,
      "grid_row": null,
      "grid_template_areas": null,
      "grid_template_columns": null,
      "grid_template_rows": null,
      "height": null,
      "justify_content": null,
      "justify_items": null,
      "left": null,
      "margin": null,
      "max_height": null,
      "max_width": null,
      "min_height": null,
      "min_width": null,
      "object_fit": null,
      "object_position": null,
      "order": null,
      "overflow": null,
      "overflow_x": null,
      "overflow_y": null,
      "padding": null,
      "right": null,
      "top": null,
      "visibility": null,
      "width": null
     }
    },
    "f72e18523bf94d2ba99d5f1929b43744": {
     "model_module": "@jupyter-widgets/base",
     "model_module_version": "1.2.0",
     "model_name": "LayoutModel",
     "state": {
      "_model_module": "@jupyter-widgets/base",
      "_model_module_version": "1.2.0",
      "_model_name": "LayoutModel",
      "_view_count": null,
      "_view_module": "@jupyter-widgets/base",
      "_view_module_version": "1.2.0",
      "_view_name": "LayoutView",
      "align_content": null,
      "align_items": null,
      "align_self": null,
      "border": null,
      "bottom": null,
      "display": null,
      "flex": null,
      "flex_flow": null,
      "grid_area": null,
      "grid_auto_columns": null,
      "grid_auto_flow": null,
      "grid_auto_rows": null,
      "grid_column": null,
      "grid_gap": null,
      "grid_row": null,
      "grid_template_areas": null,
      "grid_template_columns": null,
      "grid_template_rows": null,
      "height": null,
      "justify_content": null,
      "justify_items": null,
      "left": null,
      "margin": null,
      "max_height": null,
      "max_width": null,
      "min_height": null,
      "min_width": null,
      "object_fit": null,
      "object_position": null,
      "order": null,
      "overflow": null,
      "overflow_x": null,
      "overflow_y": null,
      "padding": null,
      "right": null,
      "top": null,
      "visibility": null,
      "width": null
     }
    },
    "f9b3d79b310c42dfae812d3e5348a19a": {
     "model_module": "@jupyter-widgets/base",
     "model_module_version": "1.2.0",
     "model_name": "LayoutModel",
     "state": {
      "_model_module": "@jupyter-widgets/base",
      "_model_module_version": "1.2.0",
      "_model_name": "LayoutModel",
      "_view_count": null,
      "_view_module": "@jupyter-widgets/base",
      "_view_module_version": "1.2.0",
      "_view_name": "LayoutView",
      "align_content": null,
      "align_items": null,
      "align_self": null,
      "border": null,
      "bottom": null,
      "display": null,
      "flex": null,
      "flex_flow": null,
      "grid_area": null,
      "grid_auto_columns": null,
      "grid_auto_flow": null,
      "grid_auto_rows": null,
      "grid_column": null,
      "grid_gap": null,
      "grid_row": null,
      "grid_template_areas": null,
      "grid_template_columns": null,
      "grid_template_rows": null,
      "height": null,
      "justify_content": null,
      "justify_items": null,
      "left": null,
      "margin": null,
      "max_height": null,
      "max_width": null,
      "min_height": null,
      "min_width": null,
      "object_fit": null,
      "object_position": null,
      "order": null,
      "overflow": null,
      "overflow_x": null,
      "overflow_y": null,
      "padding": null,
      "right": null,
      "top": null,
      "visibility": null,
      "width": null
     }
    }
   }
  }
 },
 "nbformat": 4,
 "nbformat_minor": 5
}
